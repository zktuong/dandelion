{
 "cells": [
  {
   "cell_type": "markdown",
   "metadata": {},
   "source": [
    "# Interoperability with `scirpy`\n",
    "\n",
    "It is now possible to convert the file formats between `dandelion>=0.1.1` and `scirpy>=0.6.2` [[Sturm2020]](https://academic.oup.com/bioinformatics/article/36/18/4817/5866543) to enhance the collaboration between the analysis toolkits.\n",
    "\n",
    "We will download the *airr_rearrangement.tsv* file from here:\n",
    "```bash\n",
    "# bash\n",
    "wget https://cf.10xgenomics.com/samples/cell-vdj/4.0.0/sc5p_v2_hs_PBMC_10k/sc5p_v2_hs_PBMC_10k_b_airr_rearrangement.tsv\n",
    "```\n"
   ]
  },
  {
   "cell_type": "markdown",
   "metadata": {},
   "source": [
    "<b>Import dandelion module</b>"
   ]
  },
  {
   "cell_type": "code",
   "execution_count": 1,
   "metadata": {
    "scrolled": true
   },
   "outputs": [
    {
     "name": "stdout",
     "output_type": "stream",
     "text": [
      "dandelion==0.3.4.dev30 pandas==2.0.1 numpy==1.24.3 matplotlib==3.7.1 networkx==3.1 scipy==1.11.2\n"
     ]
    }
   ],
   "source": [
    "import os\n",
    "import dandelion as ddl\n",
    "\n",
    "# change directory to somewhere more workable\n",
    "os.chdir(os.path.expanduser(\"~/Downloads/dandelion_tutorial/\"))\n",
    "ddl.logging.print_versions()"
   ]
  },
  {
   "cell_type": "code",
   "execution_count": 2,
   "metadata": {},
   "outputs": [
    {
     "data": {
      "text/plain": [
       "'0.14.0'"
      ]
     },
     "execution_count": 2,
     "metadata": {},
     "output_type": "execute_result"
    }
   ],
   "source": [
    "import scirpy as ir\n",
    "\n",
    "ir.__version__"
   ]
  },
  {
   "cell_type": "markdown",
   "metadata": {},
   "source": [
    "## `dandelion`"
   ]
  },
  {
   "cell_type": "code",
   "execution_count": 3,
   "metadata": {
    "scrolled": true
   },
   "outputs": [
    {
     "data": {
      "text/plain": [
       "Dandelion class object with n_obs = 994 and n_contigs = 2093\n",
       "    data: 'cell_id', 'sequence_id', 'sequence', 'sequence_aa', 'productive', 'rev_comp', 'v_call', 'v_cigar', 'd_call', 'd_cigar', 'j_call', 'j_cigar', 'c_call', 'c_cigar', 'sequence_alignment', 'germline_alignment', 'junction', 'junction_aa', 'junction_length', 'junction_aa_length', 'v_sequence_start', 'v_sequence_end', 'd_sequence_start', 'd_sequence_end', 'j_sequence_start', 'j_sequence_end', 'c_sequence_start', 'c_sequence_end', 'consensus_count', 'duplicate_count', 'is_cell', 'locus', 'rearrangement_status'\n",
       "    metadata: 'locus_VDJ', 'locus_VJ', 'productive_VDJ', 'productive_VJ', 'v_call_VDJ', 'd_call_VDJ', 'j_call_VDJ', 'v_call_VJ', 'j_call_VJ', 'c_call_VDJ', 'c_call_VJ', 'junction_VDJ', 'junction_VJ', 'junction_aa_VDJ', 'junction_aa_VJ', 'v_call_B_VDJ', 'd_call_B_VDJ', 'j_call_B_VDJ', 'v_call_B_VJ', 'j_call_B_VJ', 'c_call_B_VDJ', 'c_call_B_VJ', 'productive_B_VDJ', 'productive_B_VJ', 'duplicate_count_B_VDJ', 'duplicate_count_B_VJ', 'v_call_VDJ_main', 'v_call_VJ_main', 'd_call_VDJ_main', 'j_call_VDJ_main', 'j_call_VJ_main', 'c_call_VDJ_main', 'c_call_VJ_main', 'v_call_B_VDJ_main', 'd_call_B_VDJ_main', 'j_call_B_VDJ_main', 'v_call_B_VJ_main', 'j_call_B_VJ_main', 'isotype', 'isotype_status', 'locus_status', 'chain_status', 'rearrangement_status_VDJ', 'rearrangement_status_VJ'"
      ]
     },
     "execution_count": 3,
     "metadata": {},
     "output_type": "execute_result"
    }
   ],
   "source": [
    "# read in the airr_rearrangement.tsv file\n",
    "file_location = (\n",
    "    \"sc5p_v2_hs_PBMC_10k/sc5p_v2_hs_PBMC_10k_b_airr_rearrangement.tsv\"\n",
    ")\n",
    "vdj = ddl.read_10x_airr(file_location)\n",
    "vdj"
   ]
  },
  {
   "cell_type": "markdown",
   "metadata": {},
   "source": [
    "The test file contains a blank `clone_id` column so we run `find_clones` to populate it first."
   ]
  },
  {
   "cell_type": "code",
   "execution_count": 4,
   "metadata": {},
   "outputs": [
    {
     "name": "stderr",
     "output_type": "stream",
     "text": [
      "Finding clones based on B cell VDJ chains : 100%|██████████| 157/157 [00:00<00:00, 2203.76it/s]\n",
      "Finding clones based on B cell VJ chains : 100%|██████████| 164/164 [00:00<00:00, 3282.43it/s]\n",
      "Refining clone assignment based on VJ chain pairing : 100%|██████████| 994/994 [00:00<00:00, 255649.88it/s]\n"
     ]
    }
   ],
   "source": [
    "ddl.tl.find_clones(vdj)"
   ]
  },
  {
   "cell_type": "markdown",
   "metadata": {},
   "source": [
    "### `ddl.to_scirpy` : Converting `dandelion` to `scirpy`"
   ]
  },
  {
   "cell_type": "code",
   "execution_count": 5,
   "metadata": {
    "scrolled": true
   },
   "outputs": [
    {
     "name": "stderr",
     "output_type": "stream",
     "text": [
      "/opt/homebrew/Caskroom/mambaforge/base/envs/dandelion/lib/python3.11/site-packages/anndata/_core/aligned_mapping.py:54: ExperimentalFeatureWarning: Support for Awkward Arrays is currently experimental. Behavior may change in the future. Please report any issues you may encounter!\n"
     ]
    },
    {
     "data": {
      "text/plain": [
       "AnnData object with n_obs × n_vars = 994 × 0\n",
       "    uns: 'scirpy_version'\n",
       "    obsm: 'airr'"
      ]
     },
     "execution_count": 5,
     "metadata": {},
     "output_type": "execute_result"
    }
   ],
   "source": [
    "irdata = ddl.to_scirpy(vdj)\n",
    "irdata"
   ]
  },
  {
   "cell_type": "markdown",
   "metadata": {},
   "source": [
    "to transfer every column found in a dandelion airr object (including things like `germline_alignment_d_mask`) do:"
   ]
  },
  {
   "cell_type": "code",
   "execution_count": 6,
   "metadata": {},
   "outputs": [
    {
     "data": {
      "text/plain": [
       "AnnData object with n_obs × n_vars = 994 × 0\n",
       "    uns: 'scirpy_version'\n",
       "    obsm: 'airr'"
      ]
     },
     "execution_count": 6,
     "metadata": {},
     "output_type": "execute_result"
    }
   ],
   "source": [
    "irdata = ddl.to_scirpy(vdj, include_fields=vdj.data.columns)\n",
    "irdata"
   ]
  },
  {
   "cell_type": "markdown",
   "metadata": {},
   "source": [
    "The `clone_id` is mapped to `IR_VJ_1_clone_id` column."
   ]
  },
  {
   "cell_type": "markdown",
   "metadata": {},
   "source": [
    "`transfer = True` will perform dandelion's `tl.transfer`."
   ]
  },
  {
   "cell_type": "code",
   "execution_count": 7,
   "metadata": {
    "scrolled": true
   },
   "outputs": [
    {
     "data": {
      "text/plain": [
       "AnnData object with n_obs × n_vars = 994 × 0\n",
       "    obs: 'clone_id', 'clone_id_by_size', 'locus_VDJ', 'locus_VJ', 'productive_VDJ', 'productive_VJ', 'v_call_VDJ', 'd_call_VDJ', 'j_call_VDJ', 'v_call_VJ', 'j_call_VJ', 'c_call_VDJ', 'c_call_VJ', 'junction_VDJ', 'junction_VJ', 'junction_aa_VDJ', 'junction_aa_VJ', 'v_call_B_VDJ', 'd_call_B_VDJ', 'j_call_B_VDJ', 'v_call_B_VJ', 'j_call_B_VJ', 'c_call_B_VDJ', 'c_call_B_VJ', 'productive_B_VDJ', 'productive_B_VJ', 'duplicate_count_B_VDJ', 'duplicate_count_B_VJ', 'v_call_VDJ_main', 'v_call_VJ_main', 'd_call_VDJ_main', 'j_call_VDJ_main', 'j_call_VJ_main', 'c_call_VDJ_main', 'c_call_VJ_main', 'v_call_B_VDJ_main', 'd_call_B_VDJ_main', 'j_call_B_VDJ_main', 'v_call_B_VJ_main', 'j_call_B_VJ_main', 'isotype', 'isotype_status', 'locus_status', 'chain_status', 'rearrangement_status_VDJ', 'rearrangement_status_VJ'\n",
       "    uns: 'scirpy_version'\n",
       "    obsm: 'airr'"
      ]
     },
     "execution_count": 7,
     "metadata": {},
     "output_type": "execute_result"
    }
   ],
   "source": [
    "irdatax = ddl.to_scirpy(vdj, transfer=True)\n",
    "irdatax"
   ]
  },
  {
   "cell_type": "markdown",
   "metadata": {},
   "source": [
    "### `ddl.from_scirpy` : Converting `scirpy` to `dandelion`"
   ]
  },
  {
   "cell_type": "code",
   "execution_count": 8,
   "metadata": {},
   "outputs": [
    {
     "data": {
      "application/vnd.jupyter.widget-view+json": {
       "model_id": "b5b80d20553d4d80bec60ecaf6bd6a03",
       "version_major": 2,
       "version_minor": 0
      },
      "text/plain": [
       "  0%|          | 0/1 [00:00<?, ?it/s]"
      ]
     },
     "metadata": {},
     "output_type": "display_data"
    },
    {
     "data": {
      "text/plain": [
       "Dandelion class object with n_obs = 994 and n_contigs = 2093\n",
       "    data: 'sequence_id', 'sequence', 'rev_comp', 'productive', 'v_call', 'd_call', 'j_call', 'sequence_alignment', 'germline_alignment', 'junction', 'junction_aa', 'v_cigar', 'd_cigar', 'j_cigar', 'c_call', 'c_cigar', 'c_sequence_end', 'c_sequence_start', 'clone_id', 'consensus_count', 'd_sequence_end', 'd_sequence_start', 'duplicate_count', 'is_cell', 'j_sequence_end', 'j_sequence_start', 'junction_aa_length', 'junction_length', 'locus', 'rearrangement_status', 'sequence_aa', 'v_sequence_end', 'v_sequence_start', 'cell_id'\n",
       "    metadata: 'clone_id', 'clone_id_by_size', 'locus_VDJ', 'locus_VJ', 'productive_VDJ', 'productive_VJ', 'v_call_VDJ', 'd_call_VDJ', 'j_call_VDJ', 'v_call_VJ', 'j_call_VJ', 'c_call_VDJ', 'c_call_VJ', 'junction_VDJ', 'junction_VJ', 'junction_aa_VDJ', 'junction_aa_VJ', 'v_call_B_VDJ', 'd_call_B_VDJ', 'j_call_B_VDJ', 'v_call_B_VJ', 'j_call_B_VJ', 'c_call_B_VDJ', 'c_call_B_VJ', 'productive_B_VDJ', 'productive_B_VJ', 'duplicate_count_B_VDJ', 'duplicate_count_B_VJ', 'v_call_VDJ_main', 'v_call_VJ_main', 'd_call_VDJ_main', 'j_call_VDJ_main', 'j_call_VJ_main', 'c_call_VDJ_main', 'c_call_VJ_main', 'v_call_B_VDJ_main', 'd_call_B_VDJ_main', 'j_call_B_VDJ_main', 'v_call_B_VJ_main', 'j_call_B_VJ_main', 'isotype', 'isotype_status', 'locus_status', 'chain_status', 'rearrangement_status_VDJ', 'rearrangement_status_VJ'"
      ]
     },
     "execution_count": 8,
     "metadata": {},
     "output_type": "execute_result"
    }
   ],
   "source": [
    "vdjx = ddl.from_scirpy(irdata)\n",
    "vdjx"
   ]
  },
  {
   "cell_type": "code",
   "execution_count": 9,
   "metadata": {},
   "outputs": [
    {
     "data": {
      "text/html": [
       "<div>\n",
       "<style scoped>\n",
       "    .dataframe tbody tr th:only-of-type {\n",
       "        vertical-align: middle;\n",
       "    }\n",
       "\n",
       "    .dataframe tbody tr th {\n",
       "        vertical-align: top;\n",
       "    }\n",
       "\n",
       "    .dataframe thead th {\n",
       "        text-align: right;\n",
       "    }\n",
       "</style>\n",
       "<table border=\"1\" class=\"dataframe\">\n",
       "  <thead>\n",
       "    <tr style=\"text-align: right;\">\n",
       "      <th></th>\n",
       "      <th>clone_id</th>\n",
       "      <th>clone_id_by_size</th>\n",
       "      <th>locus_VDJ</th>\n",
       "      <th>locus_VJ</th>\n",
       "      <th>productive_VDJ</th>\n",
       "      <th>productive_VJ</th>\n",
       "      <th>v_call_VDJ</th>\n",
       "      <th>d_call_VDJ</th>\n",
       "      <th>j_call_VDJ</th>\n",
       "      <th>v_call_VJ</th>\n",
       "      <th>...</th>\n",
       "      <th>d_call_B_VDJ_main</th>\n",
       "      <th>j_call_B_VDJ_main</th>\n",
       "      <th>v_call_B_VJ_main</th>\n",
       "      <th>j_call_B_VJ_main</th>\n",
       "      <th>isotype</th>\n",
       "      <th>isotype_status</th>\n",
       "      <th>locus_status</th>\n",
       "      <th>chain_status</th>\n",
       "      <th>rearrangement_status_VDJ</th>\n",
       "      <th>rearrangement_status_VJ</th>\n",
       "    </tr>\n",
       "  </thead>\n",
       "  <tbody>\n",
       "    <tr>\n",
       "      <th>AAACCTGTCATATCGG-1</th>\n",
       "      <td>B_VJ_28_1_2</td>\n",
       "      <td>13</td>\n",
       "      <td>None</td>\n",
       "      <td>IGK</td>\n",
       "      <td>None</td>\n",
       "      <td>True</td>\n",
       "      <td>None</td>\n",
       "      <td>None</td>\n",
       "      <td>None</td>\n",
       "      <td>IGKV1-8</td>\n",
       "      <td>...</td>\n",
       "      <td>None</td>\n",
       "      <td>None</td>\n",
       "      <td>IGKV1-8</td>\n",
       "      <td>IGKJ4</td>\n",
       "      <td>None</td>\n",
       "      <td>None</td>\n",
       "      <td>Orphan IGK</td>\n",
       "      <td>Orphan VJ</td>\n",
       "      <td>None</td>\n",
       "      <td>standard</td>\n",
       "    </tr>\n",
       "    <tr>\n",
       "      <th>AAACCTGTCCGTTGTC-1</th>\n",
       "      <td>B_VDJ_119_3_1_VJ_127_2_1</td>\n",
       "      <td>961</td>\n",
       "      <td>IGH</td>\n",
       "      <td>IGK</td>\n",
       "      <td>True</td>\n",
       "      <td>True</td>\n",
       "      <td>IGHV1-69D</td>\n",
       "      <td>IGHD3-22</td>\n",
       "      <td>IGHJ3</td>\n",
       "      <td>IGKV1-8</td>\n",
       "      <td>...</td>\n",
       "      <td>IGHD3-22</td>\n",
       "      <td>IGHJ3</td>\n",
       "      <td>IGKV1-8</td>\n",
       "      <td>IGKJ1</td>\n",
       "      <td>IgM</td>\n",
       "      <td>IgM</td>\n",
       "      <td>IGH + IGK</td>\n",
       "      <td>Single pair</td>\n",
       "      <td>standard</td>\n",
       "      <td>standard</td>\n",
       "    </tr>\n",
       "    <tr>\n",
       "      <th>AAACCTGTCGAGAACG-1</th>\n",
       "      <td>B_VDJ_95_4_1_VJ_123_1_2</td>\n",
       "      <td>777</td>\n",
       "      <td>IGH</td>\n",
       "      <td>IGL</td>\n",
       "      <td>True</td>\n",
       "      <td>True</td>\n",
       "      <td>IGHV1-2</td>\n",
       "      <td>None</td>\n",
       "      <td>IGHJ3</td>\n",
       "      <td>IGLV5-45</td>\n",
       "      <td>...</td>\n",
       "      <td>None</td>\n",
       "      <td>IGHJ3</td>\n",
       "      <td>IGLV5-45</td>\n",
       "      <td>IGLJ3</td>\n",
       "      <td>IgM</td>\n",
       "      <td>IgM</td>\n",
       "      <td>IGH + IGL</td>\n",
       "      <td>Single pair</td>\n",
       "      <td>standard</td>\n",
       "      <td>standard</td>\n",
       "    </tr>\n",
       "    <tr>\n",
       "      <th>AAACCTGTCTTGAGAC-1</th>\n",
       "      <td>B_VDJ_50_1_2_VJ_35_1_1</td>\n",
       "      <td>776</td>\n",
       "      <td>IGH</td>\n",
       "      <td>IGK</td>\n",
       "      <td>True</td>\n",
       "      <td>True</td>\n",
       "      <td>IGHV5-51</td>\n",
       "      <td>None</td>\n",
       "      <td>IGHJ3</td>\n",
       "      <td>IGKV1D-8</td>\n",
       "      <td>...</td>\n",
       "      <td>None</td>\n",
       "      <td>IGHJ3</td>\n",
       "      <td>IGKV1D-8</td>\n",
       "      <td>IGKJ2</td>\n",
       "      <td>IgM</td>\n",
       "      <td>IgM</td>\n",
       "      <td>IGH + IGK</td>\n",
       "      <td>Single pair</td>\n",
       "      <td>standard</td>\n",
       "      <td>standard</td>\n",
       "    </tr>\n",
       "    <tr>\n",
       "      <th>AAACGGGAGCGACGTA-1</th>\n",
       "      <td>B_VDJ_6_1_1_VJ_158_2_3</td>\n",
       "      <td>775</td>\n",
       "      <td>IGH</td>\n",
       "      <td>IGL</td>\n",
       "      <td>True</td>\n",
       "      <td>True</td>\n",
       "      <td>IGHV4-59</td>\n",
       "      <td>None</td>\n",
       "      <td>IGHJ3</td>\n",
       "      <td>IGLV3-19</td>\n",
       "      <td>...</td>\n",
       "      <td>None</td>\n",
       "      <td>IGHJ3</td>\n",
       "      <td>IGLV3-19</td>\n",
       "      <td>IGLJ2</td>\n",
       "      <td>IgM</td>\n",
       "      <td>IgM</td>\n",
       "      <td>IGH + IGL</td>\n",
       "      <td>Single pair</td>\n",
       "      <td>standard</td>\n",
       "      <td>standard</td>\n",
       "    </tr>\n",
       "    <tr>\n",
       "      <th>...</th>\n",
       "      <td>...</td>\n",
       "      <td>...</td>\n",
       "      <td>...</td>\n",
       "      <td>...</td>\n",
       "      <td>...</td>\n",
       "      <td>...</td>\n",
       "      <td>...</td>\n",
       "      <td>...</td>\n",
       "      <td>...</td>\n",
       "      <td>...</td>\n",
       "      <td>...</td>\n",
       "      <td>...</td>\n",
       "      <td>...</td>\n",
       "      <td>...</td>\n",
       "      <td>...</td>\n",
       "      <td>...</td>\n",
       "      <td>...</td>\n",
       "      <td>...</td>\n",
       "      <td>...</td>\n",
       "      <td>...</td>\n",
       "      <td>...</td>\n",
       "    </tr>\n",
       "    <tr>\n",
       "      <th>TTTGCGCTCTAACGGT-1</th>\n",
       "      <td>B_VDJ_78_3_1_VJ_44_1_2</td>\n",
       "      <td>389</td>\n",
       "      <td>IGH</td>\n",
       "      <td>IGL</td>\n",
       "      <td>True</td>\n",
       "      <td>True</td>\n",
       "      <td>IGHV3-43</td>\n",
       "      <td>None</td>\n",
       "      <td>IGHJ6</td>\n",
       "      <td>IGLV2-8</td>\n",
       "      <td>...</td>\n",
       "      <td>None</td>\n",
       "      <td>IGHJ6</td>\n",
       "      <td>IGLV2-8</td>\n",
       "      <td>IGLJ3</td>\n",
       "      <td>IgM</td>\n",
       "      <td>IgM</td>\n",
       "      <td>IGH + IGL</td>\n",
       "      <td>Single pair</td>\n",
       "      <td>standard</td>\n",
       "      <td>standard</td>\n",
       "    </tr>\n",
       "    <tr>\n",
       "      <th>TTTGGTTGTAGCCTAT-1</th>\n",
       "      <td>B_VDJ_73_1_1_VJ_85_2_1</td>\n",
       "      <td>388</td>\n",
       "      <td>IGH</td>\n",
       "      <td>IGK</td>\n",
       "      <td>True</td>\n",
       "      <td>True</td>\n",
       "      <td>IGHV4-39</td>\n",
       "      <td>None</td>\n",
       "      <td>IGHJ2</td>\n",
       "      <td>IGKV6-21</td>\n",
       "      <td>...</td>\n",
       "      <td>None</td>\n",
       "      <td>IGHJ2</td>\n",
       "      <td>IGKV6-21</td>\n",
       "      <td>IGKJ4</td>\n",
       "      <td>IgM</td>\n",
       "      <td>IgM</td>\n",
       "      <td>IGH + IGK</td>\n",
       "      <td>Single pair</td>\n",
       "      <td>standard</td>\n",
       "      <td>standard</td>\n",
       "    </tr>\n",
       "    <tr>\n",
       "      <th>TTTGGTTTCAGAGCTT-1</th>\n",
       "      <td>B_VDJ_69_5_1_VJ_47_1_1</td>\n",
       "      <td>387</td>\n",
       "      <td>IGH</td>\n",
       "      <td>IGK</td>\n",
       "      <td>True</td>\n",
       "      <td>True</td>\n",
       "      <td>IGHV7-4-1</td>\n",
       "      <td>IGHD3-10</td>\n",
       "      <td>IGHJ4</td>\n",
       "      <td>IGKV3-11</td>\n",
       "      <td>...</td>\n",
       "      <td>IGHD3-10</td>\n",
       "      <td>IGHJ4</td>\n",
       "      <td>IGKV3-11</td>\n",
       "      <td>IGKJ5</td>\n",
       "      <td>IgM</td>\n",
       "      <td>IgM</td>\n",
       "      <td>IGH + IGK</td>\n",
       "      <td>Single pair</td>\n",
       "      <td>standard</td>\n",
       "      <td>standard</td>\n",
       "    </tr>\n",
       "    <tr>\n",
       "      <th>TTTGGTTTCAGTGTTG-1</th>\n",
       "      <td>B_VDJ_68_1_1_VJ_34_2_1</td>\n",
       "      <td>386</td>\n",
       "      <td>IGH</td>\n",
       "      <td>IGL</td>\n",
       "      <td>True</td>\n",
       "      <td>True</td>\n",
       "      <td>IGHV2-5</td>\n",
       "      <td>None</td>\n",
       "      <td>IGHJ4</td>\n",
       "      <td>IGLV2-23</td>\n",
       "      <td>...</td>\n",
       "      <td>None</td>\n",
       "      <td>IGHJ4</td>\n",
       "      <td>IGLV2-23</td>\n",
       "      <td>IGLJ2</td>\n",
       "      <td>IgM</td>\n",
       "      <td>IgM</td>\n",
       "      <td>IGH + IGL</td>\n",
       "      <td>Single pair</td>\n",
       "      <td>standard</td>\n",
       "      <td>standard</td>\n",
       "    </tr>\n",
       "    <tr>\n",
       "      <th>TTTGGTTTCGGTGTCG-1</th>\n",
       "      <td>B_VDJ_88_1_1_VJ_79_3_1</td>\n",
       "      <td>1154</td>\n",
       "      <td>IGH</td>\n",
       "      <td>IGK</td>\n",
       "      <td>True</td>\n",
       "      <td>True</td>\n",
       "      <td>IGHV3-21</td>\n",
       "      <td>None</td>\n",
       "      <td>IGHJ2</td>\n",
       "      <td>IGKV3-11</td>\n",
       "      <td>...</td>\n",
       "      <td>None</td>\n",
       "      <td>IGHJ2</td>\n",
       "      <td>IGKV3-11</td>\n",
       "      <td>IGKJ4</td>\n",
       "      <td>IgM</td>\n",
       "      <td>IgM</td>\n",
       "      <td>IGH + IGK</td>\n",
       "      <td>Single pair</td>\n",
       "      <td>standard</td>\n",
       "      <td>standard</td>\n",
       "    </tr>\n",
       "  </tbody>\n",
       "</table>\n",
       "<p>994 rows × 46 columns</p>\n",
       "</div>"
      ],
      "text/plain": [
       "                                    clone_id clone_id_by_size locus_VDJ   \n",
       "AAACCTGTCATATCGG-1               B_VJ_28_1_2               13      None  \\\n",
       "AAACCTGTCCGTTGTC-1  B_VDJ_119_3_1_VJ_127_2_1              961       IGH   \n",
       "AAACCTGTCGAGAACG-1   B_VDJ_95_4_1_VJ_123_1_2              777       IGH   \n",
       "AAACCTGTCTTGAGAC-1    B_VDJ_50_1_2_VJ_35_1_1              776       IGH   \n",
       "AAACGGGAGCGACGTA-1    B_VDJ_6_1_1_VJ_158_2_3              775       IGH   \n",
       "...                                      ...              ...       ...   \n",
       "TTTGCGCTCTAACGGT-1    B_VDJ_78_3_1_VJ_44_1_2              389       IGH   \n",
       "TTTGGTTGTAGCCTAT-1    B_VDJ_73_1_1_VJ_85_2_1              388       IGH   \n",
       "TTTGGTTTCAGAGCTT-1    B_VDJ_69_5_1_VJ_47_1_1              387       IGH   \n",
       "TTTGGTTTCAGTGTTG-1    B_VDJ_68_1_1_VJ_34_2_1              386       IGH   \n",
       "TTTGGTTTCGGTGTCG-1    B_VDJ_88_1_1_VJ_79_3_1             1154       IGH   \n",
       "\n",
       "                   locus_VJ productive_VDJ productive_VJ v_call_VDJ   \n",
       "AAACCTGTCATATCGG-1      IGK           None          True       None  \\\n",
       "AAACCTGTCCGTTGTC-1      IGK           True          True  IGHV1-69D   \n",
       "AAACCTGTCGAGAACG-1      IGL           True          True    IGHV1-2   \n",
       "AAACCTGTCTTGAGAC-1      IGK           True          True   IGHV5-51   \n",
       "AAACGGGAGCGACGTA-1      IGL           True          True   IGHV4-59   \n",
       "...                     ...            ...           ...        ...   \n",
       "TTTGCGCTCTAACGGT-1      IGL           True          True   IGHV3-43   \n",
       "TTTGGTTGTAGCCTAT-1      IGK           True          True   IGHV4-39   \n",
       "TTTGGTTTCAGAGCTT-1      IGK           True          True  IGHV7-4-1   \n",
       "TTTGGTTTCAGTGTTG-1      IGL           True          True    IGHV2-5   \n",
       "TTTGGTTTCGGTGTCG-1      IGK           True          True   IGHV3-21   \n",
       "\n",
       "                   d_call_VDJ j_call_VDJ v_call_VJ  ... d_call_B_VDJ_main   \n",
       "AAACCTGTCATATCGG-1       None       None   IGKV1-8  ...              None  \\\n",
       "AAACCTGTCCGTTGTC-1   IGHD3-22      IGHJ3   IGKV1-8  ...          IGHD3-22   \n",
       "AAACCTGTCGAGAACG-1       None      IGHJ3  IGLV5-45  ...              None   \n",
       "AAACCTGTCTTGAGAC-1       None      IGHJ3  IGKV1D-8  ...              None   \n",
       "AAACGGGAGCGACGTA-1       None      IGHJ3  IGLV3-19  ...              None   \n",
       "...                       ...        ...       ...  ...               ...   \n",
       "TTTGCGCTCTAACGGT-1       None      IGHJ6   IGLV2-8  ...              None   \n",
       "TTTGGTTGTAGCCTAT-1       None      IGHJ2  IGKV6-21  ...              None   \n",
       "TTTGGTTTCAGAGCTT-1   IGHD3-10      IGHJ4  IGKV3-11  ...          IGHD3-10   \n",
       "TTTGGTTTCAGTGTTG-1       None      IGHJ4  IGLV2-23  ...              None   \n",
       "TTTGGTTTCGGTGTCG-1       None      IGHJ2  IGKV3-11  ...              None   \n",
       "\n",
       "                   j_call_B_VDJ_main v_call_B_VJ_main j_call_B_VJ_main   \n",
       "AAACCTGTCATATCGG-1              None          IGKV1-8            IGKJ4  \\\n",
       "AAACCTGTCCGTTGTC-1             IGHJ3          IGKV1-8            IGKJ1   \n",
       "AAACCTGTCGAGAACG-1             IGHJ3         IGLV5-45            IGLJ3   \n",
       "AAACCTGTCTTGAGAC-1             IGHJ3         IGKV1D-8            IGKJ2   \n",
       "AAACGGGAGCGACGTA-1             IGHJ3         IGLV3-19            IGLJ2   \n",
       "...                              ...              ...              ...   \n",
       "TTTGCGCTCTAACGGT-1             IGHJ6          IGLV2-8            IGLJ3   \n",
       "TTTGGTTGTAGCCTAT-1             IGHJ2         IGKV6-21            IGKJ4   \n",
       "TTTGGTTTCAGAGCTT-1             IGHJ4         IGKV3-11            IGKJ5   \n",
       "TTTGGTTTCAGTGTTG-1             IGHJ4         IGLV2-23            IGLJ2   \n",
       "TTTGGTTTCGGTGTCG-1             IGHJ2         IGKV3-11            IGKJ4   \n",
       "\n",
       "                   isotype isotype_status locus_status chain_status   \n",
       "AAACCTGTCATATCGG-1    None           None   Orphan IGK    Orphan VJ  \\\n",
       "AAACCTGTCCGTTGTC-1     IgM            IgM    IGH + IGK  Single pair   \n",
       "AAACCTGTCGAGAACG-1     IgM            IgM    IGH + IGL  Single pair   \n",
       "AAACCTGTCTTGAGAC-1     IgM            IgM    IGH + IGK  Single pair   \n",
       "AAACGGGAGCGACGTA-1     IgM            IgM    IGH + IGL  Single pair   \n",
       "...                    ...            ...          ...          ...   \n",
       "TTTGCGCTCTAACGGT-1     IgM            IgM    IGH + IGL  Single pair   \n",
       "TTTGGTTGTAGCCTAT-1     IgM            IgM    IGH + IGK  Single pair   \n",
       "TTTGGTTTCAGAGCTT-1     IgM            IgM    IGH + IGK  Single pair   \n",
       "TTTGGTTTCAGTGTTG-1     IgM            IgM    IGH + IGL  Single pair   \n",
       "TTTGGTTTCGGTGTCG-1     IgM            IgM    IGH + IGK  Single pair   \n",
       "\n",
       "                   rearrangement_status_VDJ rearrangement_status_VJ  \n",
       "AAACCTGTCATATCGG-1                     None                standard  \n",
       "AAACCTGTCCGTTGTC-1                 standard                standard  \n",
       "AAACCTGTCGAGAACG-1                 standard                standard  \n",
       "AAACCTGTCTTGAGAC-1                 standard                standard  \n",
       "AAACGGGAGCGACGTA-1                 standard                standard  \n",
       "...                                     ...                     ...  \n",
       "TTTGCGCTCTAACGGT-1                 standard                standard  \n",
       "TTTGGTTGTAGCCTAT-1                 standard                standard  \n",
       "TTTGGTTTCAGAGCTT-1                 standard                standard  \n",
       "TTTGGTTTCAGTGTTG-1                 standard                standard  \n",
       "TTTGGTTTCGGTGTCG-1                 standard                standard  \n",
       "\n",
       "[994 rows x 46 columns]"
      ]
     },
     "execution_count": 9,
     "metadata": {},
     "output_type": "execute_result"
    }
   ],
   "source": [
    "vdjx.metadata"
   ]
  },
  {
   "cell_type": "markdown",
   "metadata": {},
   "source": [
    "## `scirpy`"
   ]
  },
  {
   "cell_type": "markdown",
   "metadata": {},
   "source": [
    "### `ir.io.from_dandelion` : Converting `dandelion` to `scirpy`"
   ]
  },
  {
   "cell_type": "code",
   "execution_count": 10,
   "metadata": {},
   "outputs": [
    {
     "data": {
      "text/plain": [
       "AnnData object with n_obs × n_vars = 994 × 0\n",
       "    uns: 'scirpy_version'\n",
       "    obsm: 'airr'"
      ]
     },
     "execution_count": 10,
     "metadata": {},
     "output_type": "execute_result"
    }
   ],
   "source": [
    "irdata2 = ir.io.from_dandelion(vdj, include_fields=vdj.data.columns)\n",
    "irdata2"
   ]
  },
  {
   "cell_type": "markdown",
   "metadata": {},
   "source": [
    "likewise, `transfer = True` will perform dandelion's `tl.transfer`."
   ]
  },
  {
   "cell_type": "code",
   "execution_count": 11,
   "metadata": {},
   "outputs": [
    {
     "data": {
      "text/plain": [
       "AnnData object with n_obs × n_vars = 994 × 0\n",
       "    obs: 'clone_id', 'clone_id_by_size', 'locus_VDJ', 'locus_VJ', 'productive_VDJ', 'productive_VJ', 'v_call_VDJ', 'd_call_VDJ', 'j_call_VDJ', 'v_call_VJ', 'j_call_VJ', 'c_call_VDJ', 'c_call_VJ', 'junction_VDJ', 'junction_VJ', 'junction_aa_VDJ', 'junction_aa_VJ', 'v_call_B_VDJ', 'd_call_B_VDJ', 'j_call_B_VDJ', 'v_call_B_VJ', 'j_call_B_VJ', 'c_call_B_VDJ', 'c_call_B_VJ', 'productive_B_VDJ', 'productive_B_VJ', 'duplicate_count_B_VDJ', 'duplicate_count_B_VJ', 'v_call_VDJ_main', 'v_call_VJ_main', 'd_call_VDJ_main', 'j_call_VDJ_main', 'j_call_VJ_main', 'c_call_VDJ_main', 'c_call_VJ_main', 'v_call_B_VDJ_main', 'd_call_B_VDJ_main', 'j_call_B_VDJ_main', 'v_call_B_VJ_main', 'j_call_B_VJ_main', 'isotype', 'isotype_status', 'locus_status', 'chain_status', 'rearrangement_status_VDJ', 'rearrangement_status_VJ'\n",
       "    uns: 'scirpy_version'\n",
       "    obsm: 'airr'"
      ]
     },
     "execution_count": 11,
     "metadata": {},
     "output_type": "execute_result"
    }
   ],
   "source": [
    "irdata2x = ir.io.from_dandelion(\n",
    "    vdj, transfer=True, include_fields=vdj.data.columns\n",
    ")\n",
    "irdata2x"
   ]
  },
  {
   "cell_type": "markdown",
   "metadata": {},
   "source": [
    "### `ir.io.to_dandelion` : Converting `scirpy` to `dandelion`"
   ]
  },
  {
   "cell_type": "code",
   "execution_count": 12,
   "metadata": {},
   "outputs": [
    {
     "data": {
      "application/vnd.jupyter.widget-view+json": {
       "model_id": "5af0aa5499df4514b61040f1a295440c",
       "version_major": 2,
       "version_minor": 0
      },
      "text/plain": [
       "  0%|          | 0/1 [00:00<?, ?it/s]"
      ]
     },
     "metadata": {},
     "output_type": "display_data"
    },
    {
     "data": {
      "text/plain": [
       "Dandelion class object with n_obs = 994 and n_contigs = 2093\n",
       "    data: 'sequence_id', 'sequence', 'rev_comp', 'productive', 'v_call', 'd_call', 'j_call', 'sequence_alignment', 'germline_alignment', 'junction', 'junction_aa', 'v_cigar', 'd_cigar', 'j_cigar', 'c_call', 'c_cigar', 'c_sequence_end', 'c_sequence_start', 'clone_id', 'consensus_count', 'd_sequence_end', 'd_sequence_start', 'duplicate_count', 'is_cell', 'j_sequence_end', 'j_sequence_start', 'junction_aa_length', 'junction_length', 'locus', 'rearrangement_status', 'sequence_aa', 'v_sequence_end', 'v_sequence_start', 'cell_id'\n",
       "    metadata: 'clone_id', 'clone_id_by_size', 'locus_VDJ', 'locus_VJ', 'productive_VDJ', 'productive_VJ', 'v_call_VDJ', 'd_call_VDJ', 'j_call_VDJ', 'v_call_VJ', 'j_call_VJ', 'c_call_VDJ', 'c_call_VJ', 'junction_VDJ', 'junction_VJ', 'junction_aa_VDJ', 'junction_aa_VJ', 'v_call_B_VDJ', 'd_call_B_VDJ', 'j_call_B_VDJ', 'v_call_B_VJ', 'j_call_B_VJ', 'c_call_B_VDJ', 'c_call_B_VJ', 'productive_B_VDJ', 'productive_B_VJ', 'duplicate_count_B_VDJ', 'duplicate_count_B_VJ', 'v_call_VDJ_main', 'v_call_VJ_main', 'd_call_VDJ_main', 'j_call_VDJ_main', 'j_call_VJ_main', 'c_call_VDJ_main', 'c_call_VJ_main', 'v_call_B_VDJ_main', 'd_call_B_VDJ_main', 'j_call_B_VDJ_main', 'v_call_B_VJ_main', 'j_call_B_VJ_main', 'isotype', 'isotype_status', 'locus_status', 'chain_status', 'rearrangement_status_VDJ', 'rearrangement_status_VJ'"
      ]
     },
     "execution_count": 12,
     "metadata": {},
     "output_type": "execute_result"
    }
   ],
   "source": [
    "vdj3 = ir.io.to_dandelion(irdata2)\n",
    "vdj3"
   ]
  },
  {
   "cell_type": "markdown",
   "metadata": {},
   "source": [
    "### Example of reading with `scirpy` followed by conversion to `dandelion`"
   ]
  },
  {
   "cell_type": "code",
   "execution_count": 13,
   "metadata": {
    "scrolled": true
   },
   "outputs": [
    {
     "name": "stdout",
     "output_type": "stream",
     "text": [
      "WARNING: `locus` column not found in input data. The locus is being inferred from the {v,d,j,c}_call columns.\n"
     ]
    },
    {
     "data": {
      "text/plain": [
       "AnnData object with n_obs × n_vars = 994 × 0\n",
       "    uns: 'scirpy_version'\n",
       "    obsm: 'airr'"
      ]
     },
     "execution_count": 13,
     "metadata": {},
     "output_type": "execute_result"
    }
   ],
   "source": [
    "# read in the airr_rearrangement.tsv file\n",
    "file_location = (\n",
    "    \"sc5p_v2_hs_PBMC_10k/sc5p_v2_hs_PBMC_10k_b_airr_rearrangement.tsv\"\n",
    ")\n",
    "irdata_s = ir.io.read_airr(file_location)\n",
    "irdata_s"
   ]
  },
  {
   "cell_type": "markdown",
   "metadata": {},
   "source": [
    "This time, find clones with `scirpy`'s method."
   ]
  },
  {
   "cell_type": "code",
   "execution_count": 14,
   "metadata": {
    "scrolled": true
   },
   "outputs": [
    {
     "name": "stdout",
     "output_type": "stream",
     "text": [
      "WARNING: No chain indices found under adata.obsm['chain_indices']. Running scirpy.pp.index_chains with default parameters. \n"
     ]
    },
    {
     "data": {
      "application/vnd.jupyter.widget-view+json": {
       "model_id": "031deae82a104fd388bff78db1509274",
       "version_major": 2,
       "version_minor": 0
      },
      "text/plain": [
       "  0%|          | 0/105 [00:00<?, ?it/s]"
      ]
     },
     "metadata": {},
     "output_type": "display_data"
    },
    {
     "data": {
      "application/vnd.jupyter.widget-view+json": {
       "model_id": "46459033fc9841ae95d9e204a3c590ac",
       "version_major": 2,
       "version_minor": 0
      },
      "text/plain": [
       "  0%|          | 0/231 [00:00<?, ?it/s]"
      ]
     },
     "metadata": {},
     "output_type": "display_data"
    },
    {
     "data": {
      "application/vnd.jupyter.widget-view+json": {
       "model_id": "e0ab7d5e736448278eb3be369f43192c",
       "version_major": 2,
       "version_minor": 0
      },
      "text/plain": [
       "  0%|          | 0/984 [00:00<?, ?it/s]"
      ]
     },
     "metadata": {},
     "output_type": "display_data"
    },
    {
     "data": {
      "text/plain": [
       "AnnData object with n_obs × n_vars = 994 × 0\n",
       "    obs: 'receptor_type', 'receptor_subtype', 'chain_pairing', 'clone_id', 'clone_id_size'\n",
       "    uns: 'scirpy_version', 'chain_indices', 'ir_dist_aa_hamming', 'ir_dist_nt_identity', 'clone_id'\n",
       "    obsm: 'airr', 'chain_indices'"
      ]
     },
     "execution_count": 14,
     "metadata": {},
     "output_type": "execute_result"
    }
   ],
   "source": [
    "ir.tl.chain_qc(irdata_s)\n",
    "ir.pp.ir_dist(irdata_s, metric=\"hamming\", sequence=\"aa\")\n",
    "ir.tl.define_clonotypes(irdata_s)\n",
    "irdata_s"
   ]
  },
  {
   "cell_type": "code",
   "execution_count": 15,
   "metadata": {},
   "outputs": [
    {
     "data": {
      "application/vnd.jupyter.widget-view+json": {
       "model_id": "4440d1f3a5f54086b45313745aaeea9b",
       "version_major": 2,
       "version_minor": 0
      },
      "text/plain": [
       "  0%|          | 0/1 [00:00<?, ?it/s]"
      ]
     },
     "metadata": {},
     "output_type": "display_data"
    },
    {
     "data": {
      "text/plain": [
       "Dandelion class object with n_obs = 994 and n_contigs = 2093\n",
       "    data: 'sequence_id', 'sequence', 'rev_comp', 'productive', 'v_call', 'd_call', 'j_call', 'sequence_alignment', 'germline_alignment', 'junction', 'junction_aa', 'v_cigar', 'd_cigar', 'j_cigar', 'c_call', 'c_cigar', 'c_sequence_end', 'c_sequence_start', 'clone_id', 'consensus_count', 'd_sequence_end', 'd_sequence_start', 'duplicate_count', 'is_cell', 'j_sequence_end', 'j_sequence_start', 'junction_aa_length', 'junction_length', 'locus', 'sequence_aa', 'v_sequence_end', 'v_sequence_start', 'cell_id', 'receptor_type', 'receptor_subtype', 'chain_pairing', 'clone_id_size', 'rearrangement_status'\n",
       "    metadata: 'clone_id', 'clone_id_by_size', 'locus_VDJ', 'locus_VJ', 'productive_VDJ', 'productive_VJ', 'v_call_VDJ', 'd_call_VDJ', 'j_call_VDJ', 'v_call_VJ', 'j_call_VJ', 'c_call_VDJ', 'c_call_VJ', 'junction_VDJ', 'junction_VJ', 'junction_aa_VDJ', 'junction_aa_VJ', 'v_call_B_VDJ', 'd_call_B_VDJ', 'j_call_B_VDJ', 'v_call_B_VJ', 'j_call_B_VJ', 'c_call_B_VDJ', 'c_call_B_VJ', 'productive_B_VDJ', 'productive_B_VJ', 'duplicate_count_B_VDJ', 'duplicate_count_B_VJ', 'v_call_VDJ_main', 'v_call_VJ_main', 'd_call_VDJ_main', 'j_call_VDJ_main', 'j_call_VJ_main', 'c_call_VDJ_main', 'c_call_VJ_main', 'v_call_B_VDJ_main', 'd_call_B_VDJ_main', 'j_call_B_VDJ_main', 'v_call_B_VJ_main', 'j_call_B_VJ_main', 'isotype', 'isotype_status', 'locus_status', 'chain_status', 'rearrangement_status_VDJ', 'rearrangement_status_VJ'"
      ]
     },
     "execution_count": 15,
     "metadata": {},
     "output_type": "execute_result"
    }
   ],
   "source": [
    "vdj4 = ir.io.to_dandelion(irdata_s)\n",
    "vdj4"
   ]
  },
  {
   "cell_type": "markdown",
   "metadata": {},
   "source": [
    "### Visualising with `scirpy`'s plotting tools\n",
    "\n",
    "You can now also plot `dandelion` networks using `scirpy`'s functions."
   ]
  },
  {
   "cell_type": "code",
   "execution_count": 16,
   "metadata": {},
   "outputs": [
    {
     "name": "stderr",
     "output_type": "stream",
     "text": [
      "Setting up data: 2093it [00:00, 8097.61it/s]\n",
      "Calculating distances : 100%|██████████| 1154/1154 [00:00<00:00, 6089.45it/s]\n",
      "Aggregating distances : 100%|██████████| 4/4 [00:00<00:00, 164.10it/s]\n",
      "Sorting into clusters : 100%|██████████| 1154/1154 [00:00<00:00, 1720.99it/s]\n",
      "Calculating minimum spanning tree : 100%|██████████| 8/8 [00:00<00:00, 418.56it/s]\n",
      "Generating edge list : 100%|██████████| 8/8 [00:00<00:00, 1305.67it/s]\n",
      "Computing overlap : 100%|██████████| 1154/1154 [00:00<00:00, 1861.52it/s]\n",
      "Adjust overlap : 100%|██████████| 82/82 [00:00<00:00, 2916.07it/s]\n",
      "Linking edges : 100%|██████████| 984/984 [00:00<00:00, 23348.62it/s]\n"
     ]
    },
    {
     "name": "stdout",
     "output_type": "stream",
     "text": [
      "Computing network layout\n",
      "Computing expanded network layout\n"
     ]
    }
   ],
   "source": [
    "ddl.tl.generate_network(vdj, key=\"junction\")"
   ]
  },
  {
   "cell_type": "code",
   "execution_count": 17,
   "metadata": {},
   "outputs": [],
   "source": [
    "irdata_s.obs[\"scirpy_clone_id\"] = irdata_s.obs[\"clone_id\"]  # stash it\n",
    "ddl.tl.transfer(\n",
    "    irdata_s, vdj, overwrite=True\n",
    ")  # overwrite scirpy's clone_id definition"
   ]
  },
  {
   "cell_type": "code",
   "execution_count": 18,
   "metadata": {},
   "outputs": [
    {
     "data": {
      "text/plain": [
       "<Axes: >"
      ]
     },
     "execution_count": 18,
     "metadata": {},
     "output_type": "execute_result"
    },
    {
     "data": {
      "image/png": "[encoded data removed]",
      "text/plain": [
       "<Figure size 950x700 with 4 Axes>"
      ]
     },
     "metadata": {},
     "output_type": "display_data"
    }
   ],
   "source": [
    "ir.tl.clonotype_network(irdata_s, min_cells=2)\n",
    "ir.pl.clonotype_network(irdata_s, color=\"clone_id\", panel_size=(7, 7))"
   ]
  },
  {
   "cell_type": "markdown",
   "metadata": {},
   "source": [
    "to swap to a shorter clone_id name (ordered by size)"
   ]
  },
  {
   "cell_type": "code",
   "execution_count": 19,
   "metadata": {},
   "outputs": [
    {
     "data": {
      "text/plain": [
       "<Axes: >"
      ]
     },
     "execution_count": 19,
     "metadata": {},
     "output_type": "execute_result"
    },
    {
     "data": {
      "image/png": "[encoded data removed]",
      "text/plain": [
       "<Figure size 950x700 with 4 Axes>"
      ]
     },
     "metadata": {},
     "output_type": "display_data"
    }
   ],
   "source": [
    "ddl.tl.transfer(irdata_s, vdj, clone_key=\"clone_id_by_size\")\n",
    "ir.tl.clonotype_network(irdata_s, clonotype_key=\"clone_id_by_size\", min_cells=2)\n",
    "ir.pl.clonotype_network(irdata_s, color=\"clone_id_by_size\", panel_size=(7, 7))"
   ]
  },
  {
   "cell_type": "markdown",
   "metadata": {},
   "source": [
    "you can also collapse the networks to a single node and plot by size"
   ]
  },
  {
   "cell_type": "code",
   "execution_count": 20,
   "metadata": {},
   "outputs": [
    {
     "data": {
      "text/plain": [
       "<Axes: >"
      ]
     },
     "execution_count": 20,
     "metadata": {},
     "output_type": "execute_result"
    },
    {
     "data": {
      "image/png": "[encoded data removed]",
      "text/plain": [
       "<Figure size 950x700 with 4 Axes>"
      ]
     },
     "metadata": {},
     "output_type": "display_data"
    }
   ],
   "source": [
    "ddl.tl.transfer(\n",
    "    irdata_s, vdj, clone_key=\"clone_id_by_size\", collapse_nodes=True\n",
    ")\n",
    "ir.tl.clonotype_network(irdata_s, clonotype_key=\"clone_id_by_size\", min_cells=2)\n",
    "ir.pl.clonotype_network(irdata_s, color=\"scirpy_clone_id\", panel_size=(7, 7))"
   ]
  },
  {
   "cell_type": "code",
   "execution_count": null,
   "metadata": {},
   "outputs": [],
   "source": []
  }
 ],
 "metadata": {
  "kernelspec": {
   "display_name": "Python 3 (ipykernel)",
   "language": "python",
   "name": "python3"
  },
  "language_info": {
   "codemirror_mode": {
    "name": "ipython",
    "version": 3
   },
   "file_extension": ".py",
   "mimetype": "text/x-python",
   "name": "python",
   "nbconvert_exporter": "python",
   "pygments_lexer": "ipython3",
   "version": "3.11.5"
  }
 },
 "nbformat": 4,
 "nbformat_minor": 4
}
