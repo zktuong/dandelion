{
 "cells": [
  {
   "cell_type": "markdown",
   "metadata": {},
   "source": [
    "# V(D)J clustering\n",
    "\n",
    "On the topic of finding clones/clonotypes, there are many ways used for clustering BCRs, almost all involving some measure based on sequence similarity. There are also a lot of very well established guidelines and criterias maintained by the BCR community. For example, *immcantation* uses a number of model-based [methods](https://changeo.readthedocs.io/en/stable/methods/clustering.html) [[Gupta2015]](https://academic.oup.com/bioinformatics/article/31/20/3356/195677) to group clones based on the distribution of length-normalised junctional hamming distance while others use the whole BCR V(D)J sequence to define clones as shown in this paper [[Bashford-Rogers2019]](https://www.nature.com/articles/s41586-019-1595-3)."
   ]
  },
  {
   "cell_type": "markdown",
   "metadata": {},
   "source": [
    "<b>Import modules</b>"
   ]
  },
  {
   "cell_type": "code",
   "execution_count": null,
   "metadata": {
    "scrolled": true
   },
   "outputs": [
    {
     "name": "stdout",
     "output_type": "stream",
     "text": [
      "dandelion==0.4.1.dev12 pandas==2.2.3 numpy==2.0.2 matplotlib==3.8.4 networkx==3.4.2 scipy==1.14.1\n"
     ]
    }
   ],
   "source": [
    "import os\n",
    "import dandelion as ddl\n",
    "\n",
    "ddl.logging.print_header()"
   ]
  },
  {
   "cell_type": "code",
   "execution_count": 2,
   "metadata": {
    "scrolled": true
   },
   "outputs": [
    {
     "name": "stdout",
     "output_type": "stream",
     "text": [
      "scanpy==1.10.3 anndata==0.10.9 umap==0.5.6 numpy==2.0.2 scipy==1.14.1 pandas==2.2.3 scikit-learn==1.5.0 statsmodels==0.14.2 igraph==0.11.6 pynndescent==0.5.13\n"
     ]
    }
   ],
   "source": [
    "# change directory to somewhere more workable\n",
    "os.chdir(os.path.expanduser(\"~/Downloads/dandelion_tutorial/\"))\n",
    "# I'm importing scanpy here to make use of its logging module.\n",
    "import scanpy as sc\n",
    "\n",
    "sc.settings.verbosity = 3\n",
    "import warnings\n",
    "\n",
    "warnings.filterwarnings(\"ignore\")\n",
    "sc.logging.print_header()"
   ]
  },
  {
   "cell_type": "markdown",
   "metadata": {},
   "source": [
    "<b>Read in the previously saved files</b>\n",
    "\n",
    "I will work with the same example from the previous section since I have the filtered V(D)J data stored in a `Dandelion` class."
   ]
  },
  {
   "cell_type": "code",
   "execution_count": 3,
   "metadata": {
    "scrolled": true
   },
   "outputs": [
    {
     "data": {
      "text/plain": [
       "Dandelion class object with n_obs = 2237 and n_contigs = 7357\n",
       "    data: 'sequence_id', 'sequence', 'rev_comp', 'productive', 'v_call', 'd_call', 'j_call', 'sequence_alignment', 'germline_alignment', 'junction', 'junction_aa', 'v_cigar', 'd_cigar', 'j_cigar', 'stop_codon', 'vj_in_frame', 'locus', 'c_call', 'junction_length', 'np1_length', 'np2_length', 'v_sequence_start', 'v_sequence_end', 'v_germline_start', 'v_germline_end', 'd_sequence_start', 'd_sequence_end', 'd_germline_start', 'd_germline_end', 'j_sequence_start', 'j_sequence_end', 'j_germline_start', 'j_germline_end', 'v_score', 'v_identity', 'v_support', 'd_score', 'd_identity', 'd_support', 'j_score', 'j_identity', 'j_support', 'fwr1', 'fwr2', 'fwr3', 'fwr4', 'cdr1', 'cdr2', 'cdr3', 'cell_id', 'consensus_count', 'umi_count', 'v_call_10x', 'd_call_10x', 'j_call_10x', 'junction_10x', 'junction_10x_aa', 'j_support_igblastn', 'j_score_igblastn', 'j_call_igblastn', 'j_call_blastn', 'j_identity_blastn', 'j_alignment_length_blastn', 'j_number_of_mismatches_blastn', 'j_number_of_gap_openings_blastn', 'j_sequence_start_blastn', 'j_sequence_end_blastn', 'j_germline_start_blastn', 'j_germline_end_blastn', 'j_support_blastn', 'j_score_blastn', 'j_sequence_alignment_blastn', 'j_germline_alignment_blastn', 'j_source', 'd_support_igblastn', 'd_score_igblastn', 'd_call_igblastn', 'd_call_blastn', 'd_identity_blastn', 'd_alignment_length_blastn', 'd_number_of_mismatches_blastn', 'd_number_of_gap_openings_blastn', 'd_sequence_start_blastn', 'd_sequence_end_blastn', 'd_germline_start_blastn', 'd_germline_end_blastn', 'd_support_blastn', 'd_score_blastn', 'd_sequence_alignment_blastn', 'd_germline_alignment_blastn', 'd_source', 'germline_alignment_d_mask', 'v_call_genotyped', 'sample_id', 'c_sequence_alignment', 'c_germline_alignment', 'c_sequence_start', 'c_sequence_end', 'c_score', 'c_identity', 'c_call_10x', 'junction_aa_length', 'fwr1_aa', 'fwr2_aa', 'fwr3_aa', 'fwr4_aa', 'cdr1_aa', 'cdr2_aa', 'cdr3_aa', 'sequence_alignment_aa', 'v_sequence_alignment_aa', 'd_sequence_alignment_aa', 'j_sequence_alignment_aa', 'complete_vdj', 'j_call_multimappers', 'j_call_multiplicity', 'j_call_sequence_start_multimappers', 'j_call_sequence_end_multimappers', 'j_call_support_multimappers', 'mu_count', 'ambiguous', 'extra', 'rearrangement_status'\n",
       "    metadata: 'sample_id', 'locus_VDJ', 'locus_VJ', 'productive_VDJ', 'productive_VJ', 'v_call_genotyped_VDJ', 'd_call_VDJ', 'j_call_VDJ', 'v_call_genotyped_VJ', 'j_call_VJ', 'c_call_VDJ', 'c_call_VJ', 'junction_VDJ', 'junction_VJ', 'junction_aa_VDJ', 'junction_aa_VJ', 'v_call_genotyped_B_VDJ', 'd_call_B_VDJ', 'j_call_B_VDJ', 'v_call_genotyped_B_VJ', 'j_call_B_VJ', 'c_call_B_VDJ', 'c_call_B_VJ', 'productive_B_VDJ', 'productive_B_VJ', 'umi_count_B_VDJ', 'umi_count_B_VJ', 'v_call_VDJ_main', 'v_call_VJ_main', 'd_call_VDJ_main', 'j_call_VDJ_main', 'j_call_VJ_main', 'c_call_VDJ_main', 'c_call_VJ_main', 'v_call_B_VDJ_main', 'd_call_B_VDJ_main', 'j_call_B_VDJ_main', 'v_call_B_VJ_main', 'j_call_B_VJ_main', 'isotype', 'isotype_status', 'locus_status', 'chain_status', 'rearrangement_status_VDJ', 'rearrangement_status_VJ'"
      ]
     },
     "execution_count": 3,
     "metadata": {},
     "output_type": "execute_result"
    }
   ],
   "source": [
    "vdj = ddl.read_h5ddl(\"dandelion_results.h5ddl\")\n",
    "vdj"
   ]
  },
  {
   "cell_type": "markdown",
   "metadata": {},
   "source": [
    "## Finding clones\n",
    "\n",
    "The following is *dandelion*'s implementation of a rather conventional method to define clones, `ddl.tl.find_clones`. \n",
    "\n",
    "<div class=\"alert alert-info\">\n",
    "\n",
    "Clone definition criterion\n",
    "    \n",
    "<b>Clone definition is based on the following criterion:</b><br><br>\n",
    "\n",
    "<b>I.</b> Identical V- and J-gene usage in the VDJ chain (IGH/TRB/TRD).<br><br>\n",
    "\n",
    "<b>II.</b> Identical CDR3 junctional/CDR3 sequence length in the VDJ chain.<br><br>\n",
    "\n",
    "<b>III.</b> VDJ chain junctional/CDR3 sequences attains a minimum of % sequence similarity, based on hamming distance. The similarity cut-off is tunable (default is 85%; change to 100% if analyzing TCR data).<br><br>\n",
    "\n",
    "<b>IV.</b> VJ chain (IGK/IGL/TRA/TRG) usage. If cells within clones use different VJ chains, the clone will be split following the same conditions for VDJ chains in (1-3) as above.\n",
    "</div>"
   ]
  },
  {
   "cell_type": "markdown",
   "metadata": {},
   "source": [
    "### Running `ddl.tl.find_clones`\n",
    "The function will take a file path, a pandas `DataFrame` (for example if you've used pandas to read in the filtered file already), or a `Dandelion` class object. The default mode for calculation of junctional hamming distance is to use the CDR3 junction amino acid sequences, specified via the `key` option (`None` defaults to `junction_aa`). You can switch it to using CDR3 junction nucleotide sequences (`key = 'junction'`), or even the full V(D)J amino acid sequence (`key = 'sequence_alignment_aa'`), as long as the column name exists in the `.data` slot.\n",
    "\n",
    "If you want to use the alleles for defining V-J gene usage, specify:\n",
    "```python\n",
    "by_alleles = True\n",
    "```\n",
    "\n",
    "Clustering TCR is possible with the same setup but requires changing of default parameters (covered in the TCR section)."
   ]
  },
  {
   "cell_type": "code",
   "execution_count": 4,
   "metadata": {},
   "outputs": [
    {
     "name": "stdout",
     "output_type": "stream",
     "text": [
      "Finding clonotypes\n"
     ]
    },
    {
     "name": "stderr",
     "output_type": "stream",
     "text": [
      "Finding clones based on B cell VDJ chains : 100%|██████████| 246/246 [00:00<00:00, 5124.35it/s]\n",
      "Finding clones based on B cell VJ chains : 100%|██████████| 209/209 [00:00<00:00, 5706.83it/s]\n",
      "Refining clone assignment based on VJ chain pairing : 100%|██████████| 2237/2237 [00:00<00:00, 609897.17it/s]\n"
     ]
    },
    {
     "name": "stdout",
     "output_type": "stream",
     "text": [
      " finished: Updated Dandelion object: \n",
      "   'data', contig-indexed AIRR table\n",
      "   'metadata', cell-indexed observations table\n",
      " (0:00:00)\n"
     ]
    },
    {
     "data": {
      "text/plain": [
       "Dandelion class object with n_obs = 2237 and n_contigs = 7357\n",
       "    data: 'sequence_id', 'sequence', 'rev_comp', 'productive', 'v_call', 'd_call', 'j_call', 'sequence_alignment', 'germline_alignment', 'junction', 'junction_aa', 'v_cigar', 'd_cigar', 'j_cigar', 'stop_codon', 'vj_in_frame', 'locus', 'c_call', 'junction_length', 'np1_length', 'np2_length', 'v_sequence_start', 'v_sequence_end', 'v_germline_start', 'v_germline_end', 'd_sequence_start', 'd_sequence_end', 'd_germline_start', 'd_germline_end', 'j_sequence_start', 'j_sequence_end', 'j_germline_start', 'j_germline_end', 'v_score', 'v_identity', 'v_support', 'd_score', 'd_identity', 'd_support', 'j_score', 'j_identity', 'j_support', 'fwr1', 'fwr2', 'fwr3', 'fwr4', 'cdr1', 'cdr2', 'cdr3', 'cell_id', 'consensus_count', 'umi_count', 'v_call_10x', 'd_call_10x', 'j_call_10x', 'junction_10x', 'junction_10x_aa', 'j_support_igblastn', 'j_score_igblastn', 'j_call_igblastn', 'j_call_blastn', 'j_identity_blastn', 'j_alignment_length_blastn', 'j_number_of_mismatches_blastn', 'j_number_of_gap_openings_blastn', 'j_sequence_start_blastn', 'j_sequence_end_blastn', 'j_germline_start_blastn', 'j_germline_end_blastn', 'j_support_blastn', 'j_score_blastn', 'j_sequence_alignment_blastn', 'j_germline_alignment_blastn', 'j_source', 'd_support_igblastn', 'd_score_igblastn', 'd_call_igblastn', 'd_call_blastn', 'd_identity_blastn', 'd_alignment_length_blastn', 'd_number_of_mismatches_blastn', 'd_number_of_gap_openings_blastn', 'd_sequence_start_blastn', 'd_sequence_end_blastn', 'd_germline_start_blastn', 'd_germline_end_blastn', 'd_support_blastn', 'd_score_blastn', 'd_sequence_alignment_blastn', 'd_germline_alignment_blastn', 'd_source', 'germline_alignment_d_mask', 'v_call_genotyped', 'sample_id', 'c_sequence_alignment', 'c_germline_alignment', 'c_sequence_start', 'c_sequence_end', 'c_score', 'c_identity', 'c_call_10x', 'junction_aa_length', 'fwr1_aa', 'fwr2_aa', 'fwr3_aa', 'fwr4_aa', 'cdr1_aa', 'cdr2_aa', 'cdr3_aa', 'sequence_alignment_aa', 'v_sequence_alignment_aa', 'd_sequence_alignment_aa', 'j_sequence_alignment_aa', 'complete_vdj', 'j_call_multimappers', 'j_call_multiplicity', 'j_call_sequence_start_multimappers', 'j_call_sequence_end_multimappers', 'j_call_support_multimappers', 'mu_count', 'ambiguous', 'extra', 'rearrangement_status', 'clone_id'\n",
       "    metadata: 'clone_id', 'clone_id_by_size', 'sample_id', 'locus_VDJ', 'locus_VJ', 'productive_VDJ', 'productive_VJ', 'v_call_genotyped_VDJ', 'd_call_VDJ', 'j_call_VDJ', 'v_call_genotyped_VJ', 'j_call_VJ', 'c_call_VDJ', 'c_call_VJ', 'junction_VDJ', 'junction_VJ', 'junction_aa_VDJ', 'junction_aa_VJ', 'v_call_genotyped_B_VDJ', 'd_call_B_VDJ', 'j_call_B_VDJ', 'v_call_genotyped_B_VJ', 'j_call_B_VJ', 'c_call_B_VDJ', 'c_call_B_VJ', 'productive_B_VDJ', 'productive_B_VJ', 'umi_count_B_VDJ', 'umi_count_B_VJ', 'v_call_VDJ_main', 'v_call_VJ_main', 'd_call_VDJ_main', 'j_call_VDJ_main', 'j_call_VJ_main', 'c_call_VDJ_main', 'c_call_VJ_main', 'v_call_B_VDJ_main', 'd_call_B_VDJ_main', 'j_call_B_VDJ_main', 'v_call_B_VJ_main', 'j_call_B_VJ_main', 'isotype', 'isotype_status', 'locus_status', 'chain_status', 'rearrangement_status_VDJ', 'rearrangement_status_VJ'"
      ]
     },
     "execution_count": 4,
     "metadata": {},
     "output_type": "execute_result"
    }
   ],
   "source": [
    "ddl.tl.find_clones(vdj)\n",
    "vdj"
   ]
  },
  {
   "cell_type": "markdown",
   "metadata": {},
   "source": [
    "This will return a new column with the column name `'clone_id'` as per convention. If a file path is provided as input, it will also save the file automatically into the base directory of the file name. Otherwise, a `Dandelion` object will be returned."
   ]
  },
  {
   "cell_type": "markdown",
   "metadata": {},
   "source": [
    "<div class=\"alert alert-info\">\n",
    "\n",
    "Clonotype definition criterion\n",
    "\n",
    "The `clone_id` follows an `A_B_C_D_E_F` format and largely reflects the conditions above where:\n",
    "\n",
    "    {A} indicates if the contigs use the same V and J genes in the VDJ chain.\n",
    "    \n",
    "    {B} indicates if junctional/CDR3 sequences are equal in length in the VDJ chain.\n",
    "    \n",
    "    {C} indicates if clones are split based on junctional/CDR3 hamming distance threshold (for VDJ chain).\n",
    "    \n",
    "    {D} indicates if the contigs use the same V and J genes in the VJ chain.\n",
    "    \n",
    "    {E} indicates if junctional/CDR3 sequences are equal in length in the VJ chain.\n",
    "    \n",
    "    {F} indicates if clones are split based on junctional/CDR3 hamming distance threshold (for VJ chain).\n",
    "\n",
    "</div>\n",
    "\n",
    "Also, to prevent issues with clonotype ids matching between B cells and T cells, there will be a prefix added to the `clone_id` to reflect whether or not it's a `B`, `abT` or `gdT` clone.\n",
    "\n",
    "Also, to reduce ambiguity, the `A_B_C` segment will have the `VDJ` prefix and the `D_E_F` segment will have the `VJ` suffix.\n",
    "\n",
    "Therefor, a complete B cell clonotype id will look something like:\n",
    "\n",
    "`B_VDJ_1_1_2_VJ_2_1_1`\n",
    "\n",
    "For an `Orphan VDJ`, it would be `B_VDJ_1_1_2`.\n",
    "\n",
    "For an `Orphan VJ`, it would be `B_VJ_2_1_1`.\n",
    "\n",
    "There is also an alternate column called `clone_id_by_size` which is a simple numerical version of the `clone_id` which corresponds to the size of the clonotype - `1` is the largest clonotype, `2` is the second largest, and so on."
   ]
  },
  {
   "cell_type": "code",
   "execution_count": 5,
   "metadata": {},
   "outputs": [
    {
     "data": {
      "text/html": [
       "<div>\n",
       "<style scoped>\n",
       "    .dataframe tbody tr th:only-of-type {\n",
       "        vertical-align: middle;\n",
       "    }\n",
       "\n",
       "    .dataframe tbody tr th {\n",
       "        vertical-align: top;\n",
       "    }\n",
       "\n",
       "    .dataframe thead th {\n",
       "        text-align: right;\n",
       "    }\n",
       "</style>\n",
       "<table border=\"1\" class=\"dataframe\">\n",
       "  <thead>\n",
       "    <tr style=\"text-align: right;\">\n",
       "      <th></th>\n",
       "      <th>clone_id</th>\n",
       "      <th>clone_id_by_size</th>\n",
       "      <th>sample_id</th>\n",
       "      <th>locus_VDJ</th>\n",
       "      <th>locus_VJ</th>\n",
       "      <th>productive_VDJ</th>\n",
       "      <th>productive_VJ</th>\n",
       "      <th>v_call_genotyped_VDJ</th>\n",
       "      <th>d_call_VDJ</th>\n",
       "      <th>j_call_VDJ</th>\n",
       "      <th>...</th>\n",
       "      <th>d_call_B_VDJ_main</th>\n",
       "      <th>j_call_B_VDJ_main</th>\n",
       "      <th>v_call_B_VJ_main</th>\n",
       "      <th>j_call_B_VJ_main</th>\n",
       "      <th>isotype</th>\n",
       "      <th>isotype_status</th>\n",
       "      <th>locus_status</th>\n",
       "      <th>chain_status</th>\n",
       "      <th>rearrangement_status_VDJ</th>\n",
       "      <th>rearrangement_status_VJ</th>\n",
       "    </tr>\n",
       "  </thead>\n",
       "  <tbody>\n",
       "    <tr>\n",
       "      <th>sc5p_v2_hs_PBMC_10k_AAACCTGTCATATCGG</th>\n",
       "      <td>B_VJ_133_2_7</td>\n",
       "      <td>171</td>\n",
       "      <td>sc5p_v2_hs_PBMC_10k</td>\n",
       "      <td>None</td>\n",
       "      <td>IGK</td>\n",
       "      <td>None</td>\n",
       "      <td>T</td>\n",
       "      <td>None</td>\n",
       "      <td>None</td>\n",
       "      <td>None</td>\n",
       "      <td>...</td>\n",
       "      <td>None</td>\n",
       "      <td>None</td>\n",
       "      <td>IGKV1D-33,IGKV1-33</td>\n",
       "      <td>IGKJ4</td>\n",
       "      <td></td>\n",
       "      <td></td>\n",
       "      <td>Orphan IGK</td>\n",
       "      <td>Orphan VJ</td>\n",
       "      <td>None</td>\n",
       "      <td>standard</td>\n",
       "    </tr>\n",
       "    <tr>\n",
       "      <th>sc5p_v2_hs_PBMC_10k_AAACCTGTCCGTTGTC</th>\n",
       "      <td>B_VDJ_229_3_2_VJ_44_2_3</td>\n",
       "      <td>2009</td>\n",
       "      <td>sc5p_v2_hs_PBMC_10k</td>\n",
       "      <td>IGH</td>\n",
       "      <td>IGK</td>\n",
       "      <td>T</td>\n",
       "      <td>T</td>\n",
       "      <td>IGHV1-69D,IGHV1-69</td>\n",
       "      <td>IGHD3-22</td>\n",
       "      <td>IGHJ3</td>\n",
       "      <td>...</td>\n",
       "      <td>IGHD3-22</td>\n",
       "      <td>IGHJ3</td>\n",
       "      <td>IGKV1-8</td>\n",
       "      <td>IGKJ1</td>\n",
       "      <td>IgM</td>\n",
       "      <td>IgM</td>\n",
       "      <td>IGH + IGK</td>\n",
       "      <td>Single pair</td>\n",
       "      <td>standard</td>\n",
       "      <td>standard</td>\n",
       "    </tr>\n",
       "    <tr>\n",
       "      <th>sc5p_v2_hs_PBMC_10k_AAACCTGTCGAGAACG</th>\n",
       "      <td>B_VDJ_128_1_1_VJ_125_1_1</td>\n",
       "      <td>1607</td>\n",
       "      <td>sc5p_v2_hs_PBMC_10k</td>\n",
       "      <td>IGH</td>\n",
       "      <td>IGL</td>\n",
       "      <td>T</td>\n",
       "      <td>T</td>\n",
       "      <td>IGHV1-2</td>\n",
       "      <td>None</td>\n",
       "      <td>IGHJ3</td>\n",
       "      <td>...</td>\n",
       "      <td>None</td>\n",
       "      <td>IGHJ3</td>\n",
       "      <td>IGLV5-45</td>\n",
       "      <td>IGLJ3</td>\n",
       "      <td>IgM</td>\n",
       "      <td>IgM</td>\n",
       "      <td>IGH + IGL</td>\n",
       "      <td>Single pair</td>\n",
       "      <td>standard</td>\n",
       "      <td>standard</td>\n",
       "    </tr>\n",
       "    <tr>\n",
       "      <th>sc5p_v2_hs_PBMC_10k_AAACCTGTCTTGAGAC</th>\n",
       "      <td>B_VDJ_207_4_4_VJ_64_1_1</td>\n",
       "      <td>1608</td>\n",
       "      <td>sc5p_v2_hs_PBMC_10k</td>\n",
       "      <td>IGH</td>\n",
       "      <td>IGK</td>\n",
       "      <td>T</td>\n",
       "      <td>T</td>\n",
       "      <td>IGHV5-51</td>\n",
       "      <td>None</td>\n",
       "      <td>IGHJ3</td>\n",
       "      <td>...</td>\n",
       "      <td>None</td>\n",
       "      <td>IGHJ3</td>\n",
       "      <td>IGKV1D-8</td>\n",
       "      <td>IGKJ2</td>\n",
       "      <td>IgM</td>\n",
       "      <td>IgM</td>\n",
       "      <td>IGH + IGK</td>\n",
       "      <td>Single pair</td>\n",
       "      <td>standard</td>\n",
       "      <td>standard</td>\n",
       "    </tr>\n",
       "    <tr>\n",
       "      <th>sc5p_v2_hs_PBMC_10k_AAACGGGAGCGACGTA</th>\n",
       "      <td>B_VDJ_123_2_1_VJ_149_2_7</td>\n",
       "      <td>1609</td>\n",
       "      <td>sc5p_v2_hs_PBMC_10k</td>\n",
       "      <td>IGH</td>\n",
       "      <td>IGL</td>\n",
       "      <td>T</td>\n",
       "      <td>T</td>\n",
       "      <td>IGHV4-4</td>\n",
       "      <td>IGHD6-13</td>\n",
       "      <td>IGHJ3</td>\n",
       "      <td>...</td>\n",
       "      <td>IGHD6-13</td>\n",
       "      <td>IGHJ3</td>\n",
       "      <td>IGLV3-19</td>\n",
       "      <td>IGLJ3,IGLJ2</td>\n",
       "      <td>IgM</td>\n",
       "      <td>IgM</td>\n",
       "      <td>IGH + IGL</td>\n",
       "      <td>Single pair</td>\n",
       "      <td>standard</td>\n",
       "      <td>standard</td>\n",
       "    </tr>\n",
       "    <tr>\n",
       "      <th>...</th>\n",
       "      <td>...</td>\n",
       "      <td>...</td>\n",
       "      <td>...</td>\n",
       "      <td>...</td>\n",
       "      <td>...</td>\n",
       "      <td>...</td>\n",
       "      <td>...</td>\n",
       "      <td>...</td>\n",
       "      <td>...</td>\n",
       "      <td>...</td>\n",
       "      <td>...</td>\n",
       "      <td>...</td>\n",
       "      <td>...</td>\n",
       "      <td>...</td>\n",
       "      <td>...</td>\n",
       "      <td>...</td>\n",
       "      <td>...</td>\n",
       "      <td>...</td>\n",
       "      <td>...</td>\n",
       "      <td>...</td>\n",
       "      <td>...</td>\n",
       "    </tr>\n",
       "    <tr>\n",
       "      <th>vdj_v1_hs_pbmc3_TTTCCTCAGCAATATG</th>\n",
       "      <td>B_VDJ_157_1_1_VJ_138_2_8</td>\n",
       "      <td>815</td>\n",
       "      <td>vdj_v1_hs_pbmc3</td>\n",
       "      <td>IGH</td>\n",
       "      <td>IGK</td>\n",
       "      <td>T</td>\n",
       "      <td>T</td>\n",
       "      <td>IGHV2-5</td>\n",
       "      <td>IGHD5/OR15-5a,IGHD5/OR15-5b</td>\n",
       "      <td>IGHJ4,IGHJ5</td>\n",
       "      <td>...</td>\n",
       "      <td>IGHD5/OR15-5a,IGHD5/OR15-5b</td>\n",
       "      <td>IGHJ4,IGHJ5</td>\n",
       "      <td>IGKV4-1</td>\n",
       "      <td>IGKJ4</td>\n",
       "      <td>IgM</td>\n",
       "      <td>IgM</td>\n",
       "      <td>IGH + IGK</td>\n",
       "      <td>Single pair</td>\n",
       "      <td>standard</td>\n",
       "      <td>standard</td>\n",
       "    </tr>\n",
       "    <tr>\n",
       "      <th>vdj_v1_hs_pbmc3_TTTCCTCAGCGCTTAT</th>\n",
       "      <td>B_VDJ_214_5_3_VJ_27_1_3</td>\n",
       "      <td>816</td>\n",
       "      <td>vdj_v1_hs_pbmc3</td>\n",
       "      <td>IGH</td>\n",
       "      <td>IGK</td>\n",
       "      <td>T</td>\n",
       "      <td>T</td>\n",
       "      <td>IGHV3-30,IGHV3-30-5</td>\n",
       "      <td>IGHD4-17</td>\n",
       "      <td>IGHJ6</td>\n",
       "      <td>...</td>\n",
       "      <td>IGHD4-17</td>\n",
       "      <td>IGHJ6</td>\n",
       "      <td>IGKV2-30</td>\n",
       "      <td>IGKJ2</td>\n",
       "      <td>IgM</td>\n",
       "      <td>IgM</td>\n",
       "      <td>IGH + IGK</td>\n",
       "      <td>Single pair</td>\n",
       "      <td>standard</td>\n",
       "      <td>standard</td>\n",
       "    </tr>\n",
       "    <tr>\n",
       "      <th>vdj_v1_hs_pbmc3_TTTCCTCAGGGAAACA</th>\n",
       "      <td>B_VDJ_218_1_1_VJ_204_4_14</td>\n",
       "      <td>817</td>\n",
       "      <td>vdj_v1_hs_pbmc3</td>\n",
       "      <td>IGH</td>\n",
       "      <td>IGK</td>\n",
       "      <td>T</td>\n",
       "      <td>T</td>\n",
       "      <td>IGHV4-61</td>\n",
       "      <td>IGHD6-13</td>\n",
       "      <td>IGHJ2</td>\n",
       "      <td>...</td>\n",
       "      <td>IGHD6-13</td>\n",
       "      <td>IGHJ2</td>\n",
       "      <td>IGKV1D-39,IGKV1-39</td>\n",
       "      <td>IGKJ1</td>\n",
       "      <td>IgM</td>\n",
       "      <td>IgM</td>\n",
       "      <td>IGH + IGK</td>\n",
       "      <td>Single pair</td>\n",
       "      <td>standard</td>\n",
       "      <td>standard</td>\n",
       "    </tr>\n",
       "    <tr>\n",
       "      <th>vdj_v1_hs_pbmc3_TTTGCGCCATACCATG</th>\n",
       "      <td>B_VDJ_204_4_1_VJ_8_3_4</td>\n",
       "      <td>818</td>\n",
       "      <td>vdj_v1_hs_pbmc3</td>\n",
       "      <td>IGH</td>\n",
       "      <td>IGL</td>\n",
       "      <td>T</td>\n",
       "      <td>T</td>\n",
       "      <td>IGHV1-69D,IGHV1-69</td>\n",
       "      <td>IGHD2-15</td>\n",
       "      <td>IGHJ6</td>\n",
       "      <td>...</td>\n",
       "      <td>IGHD2-15</td>\n",
       "      <td>IGHJ6</td>\n",
       "      <td>IGLV1-47</td>\n",
       "      <td>IGLJ3</td>\n",
       "      <td>IgM</td>\n",
       "      <td>IgM</td>\n",
       "      <td>IGH + IGL</td>\n",
       "      <td>Single pair</td>\n",
       "      <td>standard</td>\n",
       "      <td>standard</td>\n",
       "    </tr>\n",
       "    <tr>\n",
       "      <th>vdj_v1_hs_pbmc3_TTTGGTTGTAGGCATG</th>\n",
       "      <td>B_VDJ_89_5_2_VJ_196_3_4</td>\n",
       "      <td>2395</td>\n",
       "      <td>vdj_v1_hs_pbmc3</td>\n",
       "      <td>IGH</td>\n",
       "      <td>IGL</td>\n",
       "      <td>T</td>\n",
       "      <td>T</td>\n",
       "      <td>IGHV3-23,IGHV3-23D</td>\n",
       "      <td>None</td>\n",
       "      <td>IGHJ4</td>\n",
       "      <td>...</td>\n",
       "      <td>None</td>\n",
       "      <td>IGHJ4</td>\n",
       "      <td>IGLV2-11</td>\n",
       "      <td>IGLJ3,IGLJ2</td>\n",
       "      <td>IgM</td>\n",
       "      <td>IgM</td>\n",
       "      <td>IGH + IGL</td>\n",
       "      <td>Single pair</td>\n",
       "      <td>standard</td>\n",
       "      <td>standard</td>\n",
       "    </tr>\n",
       "  </tbody>\n",
       "</table>\n",
       "<p>2237 rows × 47 columns</p>\n",
       "</div>"
      ],
      "text/plain": [
       "                                                       clone_id  \\\n",
       "sc5p_v2_hs_PBMC_10k_AAACCTGTCATATCGG               B_VJ_133_2_7   \n",
       "sc5p_v2_hs_PBMC_10k_AAACCTGTCCGTTGTC    B_VDJ_229_3_2_VJ_44_2_3   \n",
       "sc5p_v2_hs_PBMC_10k_AAACCTGTCGAGAACG   B_VDJ_128_1_1_VJ_125_1_1   \n",
       "sc5p_v2_hs_PBMC_10k_AAACCTGTCTTGAGAC    B_VDJ_207_4_4_VJ_64_1_1   \n",
       "sc5p_v2_hs_PBMC_10k_AAACGGGAGCGACGTA   B_VDJ_123_2_1_VJ_149_2_7   \n",
       "...                                                         ...   \n",
       "vdj_v1_hs_pbmc3_TTTCCTCAGCAATATG       B_VDJ_157_1_1_VJ_138_2_8   \n",
       "vdj_v1_hs_pbmc3_TTTCCTCAGCGCTTAT        B_VDJ_214_5_3_VJ_27_1_3   \n",
       "vdj_v1_hs_pbmc3_TTTCCTCAGGGAAACA      B_VDJ_218_1_1_VJ_204_4_14   \n",
       "vdj_v1_hs_pbmc3_TTTGCGCCATACCATG         B_VDJ_204_4_1_VJ_8_3_4   \n",
       "vdj_v1_hs_pbmc3_TTTGGTTGTAGGCATG        B_VDJ_89_5_2_VJ_196_3_4   \n",
       "\n",
       "                                     clone_id_by_size            sample_id  \\\n",
       "sc5p_v2_hs_PBMC_10k_AAACCTGTCATATCGG              171  sc5p_v2_hs_PBMC_10k   \n",
       "sc5p_v2_hs_PBMC_10k_AAACCTGTCCGTTGTC             2009  sc5p_v2_hs_PBMC_10k   \n",
       "sc5p_v2_hs_PBMC_10k_AAACCTGTCGAGAACG             1607  sc5p_v2_hs_PBMC_10k   \n",
       "sc5p_v2_hs_PBMC_10k_AAACCTGTCTTGAGAC             1608  sc5p_v2_hs_PBMC_10k   \n",
       "sc5p_v2_hs_PBMC_10k_AAACGGGAGCGACGTA             1609  sc5p_v2_hs_PBMC_10k   \n",
       "...                                               ...                  ...   \n",
       "vdj_v1_hs_pbmc3_TTTCCTCAGCAATATG                  815      vdj_v1_hs_pbmc3   \n",
       "vdj_v1_hs_pbmc3_TTTCCTCAGCGCTTAT                  816      vdj_v1_hs_pbmc3   \n",
       "vdj_v1_hs_pbmc3_TTTCCTCAGGGAAACA                  817      vdj_v1_hs_pbmc3   \n",
       "vdj_v1_hs_pbmc3_TTTGCGCCATACCATG                  818      vdj_v1_hs_pbmc3   \n",
       "vdj_v1_hs_pbmc3_TTTGGTTGTAGGCATG                 2395      vdj_v1_hs_pbmc3   \n",
       "\n",
       "                                     locus_VDJ locus_VJ productive_VDJ  \\\n",
       "sc5p_v2_hs_PBMC_10k_AAACCTGTCATATCGG      None      IGK           None   \n",
       "sc5p_v2_hs_PBMC_10k_AAACCTGTCCGTTGTC       IGH      IGK              T   \n",
       "sc5p_v2_hs_PBMC_10k_AAACCTGTCGAGAACG       IGH      IGL              T   \n",
       "sc5p_v2_hs_PBMC_10k_AAACCTGTCTTGAGAC       IGH      IGK              T   \n",
       "sc5p_v2_hs_PBMC_10k_AAACGGGAGCGACGTA       IGH      IGL              T   \n",
       "...                                        ...      ...            ...   \n",
       "vdj_v1_hs_pbmc3_TTTCCTCAGCAATATG           IGH      IGK              T   \n",
       "vdj_v1_hs_pbmc3_TTTCCTCAGCGCTTAT           IGH      IGK              T   \n",
       "vdj_v1_hs_pbmc3_TTTCCTCAGGGAAACA           IGH      IGK              T   \n",
       "vdj_v1_hs_pbmc3_TTTGCGCCATACCATG           IGH      IGL              T   \n",
       "vdj_v1_hs_pbmc3_TTTGGTTGTAGGCATG           IGH      IGL              T   \n",
       "\n",
       "                                     productive_VJ v_call_genotyped_VDJ  \\\n",
       "sc5p_v2_hs_PBMC_10k_AAACCTGTCATATCGG             T                 None   \n",
       "sc5p_v2_hs_PBMC_10k_AAACCTGTCCGTTGTC             T   IGHV1-69D,IGHV1-69   \n",
       "sc5p_v2_hs_PBMC_10k_AAACCTGTCGAGAACG             T              IGHV1-2   \n",
       "sc5p_v2_hs_PBMC_10k_AAACCTGTCTTGAGAC             T             IGHV5-51   \n",
       "sc5p_v2_hs_PBMC_10k_AAACGGGAGCGACGTA             T              IGHV4-4   \n",
       "...                                            ...                  ...   \n",
       "vdj_v1_hs_pbmc3_TTTCCTCAGCAATATG                 T              IGHV2-5   \n",
       "vdj_v1_hs_pbmc3_TTTCCTCAGCGCTTAT                 T  IGHV3-30,IGHV3-30-5   \n",
       "vdj_v1_hs_pbmc3_TTTCCTCAGGGAAACA                 T             IGHV4-61   \n",
       "vdj_v1_hs_pbmc3_TTTGCGCCATACCATG                 T   IGHV1-69D,IGHV1-69   \n",
       "vdj_v1_hs_pbmc3_TTTGGTTGTAGGCATG                 T   IGHV3-23,IGHV3-23D   \n",
       "\n",
       "                                                       d_call_VDJ  \\\n",
       "sc5p_v2_hs_PBMC_10k_AAACCTGTCATATCGG                         None   \n",
       "sc5p_v2_hs_PBMC_10k_AAACCTGTCCGTTGTC                     IGHD3-22   \n",
       "sc5p_v2_hs_PBMC_10k_AAACCTGTCGAGAACG                         None   \n",
       "sc5p_v2_hs_PBMC_10k_AAACCTGTCTTGAGAC                         None   \n",
       "sc5p_v2_hs_PBMC_10k_AAACGGGAGCGACGTA                     IGHD6-13   \n",
       "...                                                           ...   \n",
       "vdj_v1_hs_pbmc3_TTTCCTCAGCAATATG      IGHD5/OR15-5a,IGHD5/OR15-5b   \n",
       "vdj_v1_hs_pbmc3_TTTCCTCAGCGCTTAT                         IGHD4-17   \n",
       "vdj_v1_hs_pbmc3_TTTCCTCAGGGAAACA                         IGHD6-13   \n",
       "vdj_v1_hs_pbmc3_TTTGCGCCATACCATG                         IGHD2-15   \n",
       "vdj_v1_hs_pbmc3_TTTGGTTGTAGGCATG                             None   \n",
       "\n",
       "                                       j_call_VDJ  ...  \\\n",
       "sc5p_v2_hs_PBMC_10k_AAACCTGTCATATCGG         None  ...   \n",
       "sc5p_v2_hs_PBMC_10k_AAACCTGTCCGTTGTC        IGHJ3  ...   \n",
       "sc5p_v2_hs_PBMC_10k_AAACCTGTCGAGAACG        IGHJ3  ...   \n",
       "sc5p_v2_hs_PBMC_10k_AAACCTGTCTTGAGAC        IGHJ3  ...   \n",
       "sc5p_v2_hs_PBMC_10k_AAACGGGAGCGACGTA        IGHJ3  ...   \n",
       "...                                           ...  ...   \n",
       "vdj_v1_hs_pbmc3_TTTCCTCAGCAATATG      IGHJ4,IGHJ5  ...   \n",
       "vdj_v1_hs_pbmc3_TTTCCTCAGCGCTTAT            IGHJ6  ...   \n",
       "vdj_v1_hs_pbmc3_TTTCCTCAGGGAAACA            IGHJ2  ...   \n",
       "vdj_v1_hs_pbmc3_TTTGCGCCATACCATG            IGHJ6  ...   \n",
       "vdj_v1_hs_pbmc3_TTTGGTTGTAGGCATG            IGHJ4  ...   \n",
       "\n",
       "                                                d_call_B_VDJ_main  \\\n",
       "sc5p_v2_hs_PBMC_10k_AAACCTGTCATATCGG                         None   \n",
       "sc5p_v2_hs_PBMC_10k_AAACCTGTCCGTTGTC                     IGHD3-22   \n",
       "sc5p_v2_hs_PBMC_10k_AAACCTGTCGAGAACG                         None   \n",
       "sc5p_v2_hs_PBMC_10k_AAACCTGTCTTGAGAC                         None   \n",
       "sc5p_v2_hs_PBMC_10k_AAACGGGAGCGACGTA                     IGHD6-13   \n",
       "...                                                           ...   \n",
       "vdj_v1_hs_pbmc3_TTTCCTCAGCAATATG      IGHD5/OR15-5a,IGHD5/OR15-5b   \n",
       "vdj_v1_hs_pbmc3_TTTCCTCAGCGCTTAT                         IGHD4-17   \n",
       "vdj_v1_hs_pbmc3_TTTCCTCAGGGAAACA                         IGHD6-13   \n",
       "vdj_v1_hs_pbmc3_TTTGCGCCATACCATG                         IGHD2-15   \n",
       "vdj_v1_hs_pbmc3_TTTGGTTGTAGGCATG                             None   \n",
       "\n",
       "                                     j_call_B_VDJ_main    v_call_B_VJ_main  \\\n",
       "sc5p_v2_hs_PBMC_10k_AAACCTGTCATATCGG              None  IGKV1D-33,IGKV1-33   \n",
       "sc5p_v2_hs_PBMC_10k_AAACCTGTCCGTTGTC             IGHJ3             IGKV1-8   \n",
       "sc5p_v2_hs_PBMC_10k_AAACCTGTCGAGAACG             IGHJ3            IGLV5-45   \n",
       "sc5p_v2_hs_PBMC_10k_AAACCTGTCTTGAGAC             IGHJ3            IGKV1D-8   \n",
       "sc5p_v2_hs_PBMC_10k_AAACGGGAGCGACGTA             IGHJ3            IGLV3-19   \n",
       "...                                                ...                 ...   \n",
       "vdj_v1_hs_pbmc3_TTTCCTCAGCAATATG           IGHJ4,IGHJ5             IGKV4-1   \n",
       "vdj_v1_hs_pbmc3_TTTCCTCAGCGCTTAT                 IGHJ6            IGKV2-30   \n",
       "vdj_v1_hs_pbmc3_TTTCCTCAGGGAAACA                 IGHJ2  IGKV1D-39,IGKV1-39   \n",
       "vdj_v1_hs_pbmc3_TTTGCGCCATACCATG                 IGHJ6            IGLV1-47   \n",
       "vdj_v1_hs_pbmc3_TTTGGTTGTAGGCATG                 IGHJ4            IGLV2-11   \n",
       "\n",
       "                                     j_call_B_VJ_main isotype isotype_status  \\\n",
       "sc5p_v2_hs_PBMC_10k_AAACCTGTCATATCGG            IGKJ4                          \n",
       "sc5p_v2_hs_PBMC_10k_AAACCTGTCCGTTGTC            IGKJ1     IgM            IgM   \n",
       "sc5p_v2_hs_PBMC_10k_AAACCTGTCGAGAACG            IGLJ3     IgM            IgM   \n",
       "sc5p_v2_hs_PBMC_10k_AAACCTGTCTTGAGAC            IGKJ2     IgM            IgM   \n",
       "sc5p_v2_hs_PBMC_10k_AAACGGGAGCGACGTA      IGLJ3,IGLJ2     IgM            IgM   \n",
       "...                                               ...     ...            ...   \n",
       "vdj_v1_hs_pbmc3_TTTCCTCAGCAATATG                IGKJ4     IgM            IgM   \n",
       "vdj_v1_hs_pbmc3_TTTCCTCAGCGCTTAT                IGKJ2     IgM            IgM   \n",
       "vdj_v1_hs_pbmc3_TTTCCTCAGGGAAACA                IGKJ1     IgM            IgM   \n",
       "vdj_v1_hs_pbmc3_TTTGCGCCATACCATG                IGLJ3     IgM            IgM   \n",
       "vdj_v1_hs_pbmc3_TTTGGTTGTAGGCATG          IGLJ3,IGLJ2     IgM            IgM   \n",
       "\n",
       "                                     locus_status chain_status  \\\n",
       "sc5p_v2_hs_PBMC_10k_AAACCTGTCATATCGG   Orphan IGK    Orphan VJ   \n",
       "sc5p_v2_hs_PBMC_10k_AAACCTGTCCGTTGTC    IGH + IGK  Single pair   \n",
       "sc5p_v2_hs_PBMC_10k_AAACCTGTCGAGAACG    IGH + IGL  Single pair   \n",
       "sc5p_v2_hs_PBMC_10k_AAACCTGTCTTGAGAC    IGH + IGK  Single pair   \n",
       "sc5p_v2_hs_PBMC_10k_AAACGGGAGCGACGTA    IGH + IGL  Single pair   \n",
       "...                                           ...          ...   \n",
       "vdj_v1_hs_pbmc3_TTTCCTCAGCAATATG        IGH + IGK  Single pair   \n",
       "vdj_v1_hs_pbmc3_TTTCCTCAGCGCTTAT        IGH + IGK  Single pair   \n",
       "vdj_v1_hs_pbmc3_TTTCCTCAGGGAAACA        IGH + IGK  Single pair   \n",
       "vdj_v1_hs_pbmc3_TTTGCGCCATACCATG        IGH + IGL  Single pair   \n",
       "vdj_v1_hs_pbmc3_TTTGGTTGTAGGCATG        IGH + IGL  Single pair   \n",
       "\n",
       "                                     rearrangement_status_VDJ  \\\n",
       "sc5p_v2_hs_PBMC_10k_AAACCTGTCATATCGG                     None   \n",
       "sc5p_v2_hs_PBMC_10k_AAACCTGTCCGTTGTC                 standard   \n",
       "sc5p_v2_hs_PBMC_10k_AAACCTGTCGAGAACG                 standard   \n",
       "sc5p_v2_hs_PBMC_10k_AAACCTGTCTTGAGAC                 standard   \n",
       "sc5p_v2_hs_PBMC_10k_AAACGGGAGCGACGTA                 standard   \n",
       "...                                                       ...   \n",
       "vdj_v1_hs_pbmc3_TTTCCTCAGCAATATG                     standard   \n",
       "vdj_v1_hs_pbmc3_TTTCCTCAGCGCTTAT                     standard   \n",
       "vdj_v1_hs_pbmc3_TTTCCTCAGGGAAACA                     standard   \n",
       "vdj_v1_hs_pbmc3_TTTGCGCCATACCATG                     standard   \n",
       "vdj_v1_hs_pbmc3_TTTGGTTGTAGGCATG                     standard   \n",
       "\n",
       "                                     rearrangement_status_VJ  \n",
       "sc5p_v2_hs_PBMC_10k_AAACCTGTCATATCGG                standard  \n",
       "sc5p_v2_hs_PBMC_10k_AAACCTGTCCGTTGTC                standard  \n",
       "sc5p_v2_hs_PBMC_10k_AAACCTGTCGAGAACG                standard  \n",
       "sc5p_v2_hs_PBMC_10k_AAACCTGTCTTGAGAC                standard  \n",
       "sc5p_v2_hs_PBMC_10k_AAACGGGAGCGACGTA                standard  \n",
       "...                                                      ...  \n",
       "vdj_v1_hs_pbmc3_TTTCCTCAGCAATATG                    standard  \n",
       "vdj_v1_hs_pbmc3_TTTCCTCAGCGCTTAT                    standard  \n",
       "vdj_v1_hs_pbmc3_TTTCCTCAGGGAAACA                    standard  \n",
       "vdj_v1_hs_pbmc3_TTTGCGCCATACCATG                    standard  \n",
       "vdj_v1_hs_pbmc3_TTTGGTTGTAGGCATG                    standard  \n",
       "\n",
       "[2237 rows x 47 columns]"
      ]
     },
     "execution_count": 5,
     "metadata": {},
     "output_type": "execute_result"
    }
   ],
   "source": [
    "vdj.metadata"
   ]
  },
  {
   "cell_type": "markdown",
   "metadata": {},
   "source": [
    "### Alternative : Running `tl.define_clones`"
   ]
  },
  {
   "cell_type": "markdown",
   "metadata": {},
   "source": [
    "Alternatively, a wrapper to call *changeo's* `DefineClones.py` [[Gupta2015]](https://academic.oup.com/bioinformatics/article/31/20/3356/195677) is also included. To run it, you need to choose the distance threshold for clonal assignment. To facilitate this, the function `pp.calculate_threshold` will run [shazam's distToNearest](https://shazam.readthedocs.io/en/stable/topics/distToNearest/) function and return a plot showing the length normalized hamming distance distribution and automated threshold value. \n",
    "\n",
    "Again, `pp.calculate_threshold` will take a file path, pandas `DataFrame` or `Dandelion` object as input. If a `Dandelion` object is provided, the threshold value will be inserted into the `.threshold` slot. For more fine control, please use [shazam's distToNearest](https://shazam.readthedocs.io/en/stable/topics/distToNearest/) and [changeo's DefineClones.py](https://immcantation.readthedocs.io/en/stable/tutorials/10x_tutorial.html) functions directly."
   ]
  },
  {
   "cell_type": "code",
   "execution_count": 6,
   "metadata": {
    "scrolled": true
   },
   "outputs": [
    {
     "name": "stdout",
     "output_type": "stream",
     "text": [
      "Calculating threshold\n"
     ]
    },
    {
     "name": "stderr",
     "output_type": "stream",
     "text": [
      "R[write to console]: Error in (function (db, sequenceColumn = \"junction\", vCallColumn = \"v_call\",  : \n",
      "  361 cell(s) with multiple heavy chains found. One heavy chain per cell is expected.\n",
      "\n"
     ]
    },
    {
     "name": "stdout",
     "output_type": "stream",
     "text": [
      "Rerun this after filtering. For now, switching to heavy mode.\n",
      "      Threshold method 'density' did not return with any values. Switching to method = 'gmm'.\n"
     ]
    },
    {
     "data": {
      "image/png": "[encoded data removed]",
      "text/plain": [
       "<Figure size 450x250 with 4 Axes>"
      ]
     },
     "metadata": {
      "image/png": {
       "height": 250,
       "width": 450
      }
     },
     "output_type": "display_data"
    },
    {
     "name": "stdout",
     "output_type": "stream",
     "text": [
      "\n",
      " finished: Updated Dandelion object: \n",
      "   'threshold', threshold value for tuning clonal assignment\n",
      " (0:00:45)\n"
     ]
    }
   ],
   "source": [
    "ddl.pp.calculate_threshold(vdj)"
   ]
  },
  {
   "cell_type": "code",
   "execution_count": 7,
   "metadata": {},
   "outputs": [
    {
     "data": {
      "text/plain": [
       "np.float64(0.2609974791500858)"
      ]
     },
     "execution_count": 7,
     "metadata": {},
     "output_type": "execute_result"
    }
   ],
   "source": [
    "# see the actual value in .threshold slot\n",
    "vdj.threshold"
   ]
  },
  {
   "cell_type": "markdown",
   "metadata": {},
   "source": [
    "You can also manually select a value as the threshold if you wish. Note that rerunning this with `manual_threshold` is just for reproducing the plot but with the line at 0.1 in this tutorial. You can just edit `vdj.threshold` directly if you wish, i.e. `vdj.threshold = 0.1`."
   ]
  },
  {
   "cell_type": "code",
   "execution_count": 8,
   "metadata": {},
   "outputs": [
    {
     "name": "stdout",
     "output_type": "stream",
     "text": [
      "Calculating threshold\n"
     ]
    },
    {
     "name": "stderr",
     "output_type": "stream",
     "text": [
      "R[write to console]: Error in (function (db, sequenceColumn = \"junction\", vCallColumn = \"v_call\",  : \n",
      "  361 cell(s) with multiple heavy chains found. One heavy chain per cell is expected.\n",
      "\n"
     ]
    },
    {
     "name": "stdout",
     "output_type": "stream",
     "text": [
      "Rerun this after filtering. For now, switching to heavy mode.\n"
     ]
    },
    {
     "data": {
      "image/png": "[encoded data removed]",
      "text/plain": [
       "<Figure size 450x250 with 4 Axes>"
      ]
     },
     "metadata": {
      "image/png": {
       "height": 250,
       "width": 450
      }
     },
     "output_type": "display_data"
    },
    {
     "name": "stdout",
     "output_type": "stream",
     "text": [
      "\n",
      " finished: Updated Dandelion object: \n",
      "   'threshold', threshold value for tuning clonal assignment\n",
      " (0:00:04)\n"
     ]
    }
   ],
   "source": [
    "ddl.pp.calculate_threshold(vdj, manual_threshold=0.1)"
   ]
  },
  {
   "cell_type": "code",
   "execution_count": 9,
   "metadata": {},
   "outputs": [
    {
     "data": {
      "text/plain": [
       "0.1"
      ]
     },
     "execution_count": 9,
     "metadata": {},
     "output_type": "execute_result"
    }
   ],
   "source": [
    "# see the updated .threshold slot\n",
    "vdj.threshold"
   ]
  },
  {
   "cell_type": "markdown",
   "metadata": {},
   "source": [
    "\n",
    "We can run `ddl.tl.define_clones` to call *changeo's* `DefineClones.py`; see [here](https://changeo.readthedocs.io/en/stable/methods/clustering.html) for more info. Note, if a `pandas.DataFrame` or file path is provided as the input, the value in dist option (corresponds to threshold value) needs to be manually supplied. If a `Dandelion` object is provided, it will automatically retrieve it from the threshold slot. Additional options for `ddl.tl.define_clones` to provide to `DefineClones.py` can be supplied as a list to the `additional_args` option."
   ]
  },
  {
   "cell_type": "code",
   "execution_count": 10,
   "metadata": {},
   "outputs": [
    {
     "name": "stdout",
     "output_type": "stream",
     "text": [
      "Finding clones\n",
      "Running command: DefineClones.py -d /var/folders/_r/j_8_fj3x28n2th3ch0ckn9c40000gt/T/tmp18eiysd6/tmp/dandelion_define_clones_heavy-clone.tsv -o /var/folders/_r/j_8_fj3x28n2th3ch0ckn9c40000gt/T/tmp18eiysd6/dandelion_define_clones_heavy-clone.tsv --act set --model ham --norm len --dist 0.1 --nproc 1 --vf v_call_genotyped\n",
      "\n",
      "       START> DefineClones\n",
      "        FILE> dandelion_define_clones_heavy-clone.tsv\n",
      "   SEQ_FIELD> junction\n",
      "     V_FIELD> v_call_genotyped\n",
      "     J_FIELD> j_call\n",
      " MAX_MISSING> 0\n",
      "GROUP_FIELDS> None\n",
      "      ACTION> set\n",
      "        MODE> gene\n",
      "    DISTANCE> 0.1\n",
      "     LINKAGE> single\n",
      "       MODEL> ham\n",
      "        NORM> len\n",
      "         SYM> avg\n",
      "       NPROC> 1\n",
      "\n",
      "PROGRESS> [Grouping sequences] 14:42:29 (2185) 0.0 min\n",
      "\n",
      "PROGRESS> [Assigning clones] 14:42:31 |####################| 100% (2,185) 0.0 min\n",
      "\n",
      " OUTPUT> dandelion_define_clones_heavy-clone.tsv\n",
      " CLONES> 2124\n",
      "RECORDS> 2185\n",
      "   PASS> 2185\n",
      "   FAIL> 0\n",
      "    END> DefineClones\n",
      "\n",
      " finished: Updated Dandelion object: \n",
      "   'data', contig-indexed AIRR table\n",
      "   'metadata', cell-indexed observations table\n",
      " (0:00:08)\n"
     ]
    },
    {
     "data": {
      "text/plain": [
       "Dandelion class object with n_obs = 2237 and n_contigs = 7357\n",
       "    data: 'sequence_id', 'sequence', 'rev_comp', 'productive', 'v_call', 'd_call', 'j_call', 'sequence_alignment', 'germline_alignment', 'junction', 'junction_aa', 'v_cigar', 'd_cigar', 'j_cigar', 'stop_codon', 'vj_in_frame', 'locus', 'c_call', 'junction_length', 'np1_length', 'np2_length', 'v_sequence_start', 'v_sequence_end', 'v_germline_start', 'v_germline_end', 'd_sequence_start', 'd_sequence_end', 'd_germline_start', 'd_germline_end', 'j_sequence_start', 'j_sequence_end', 'j_germline_start', 'j_germline_end', 'v_score', 'v_identity', 'v_support', 'd_score', 'd_identity', 'd_support', 'j_score', 'j_identity', 'j_support', 'fwr1', 'fwr2', 'fwr3', 'fwr4', 'cdr1', 'cdr2', 'cdr3', 'cell_id', 'consensus_count', 'umi_count', 'v_call_10x', 'd_call_10x', 'j_call_10x', 'junction_10x', 'junction_10x_aa', 'j_support_igblastn', 'j_score_igblastn', 'j_call_igblastn', 'j_call_blastn', 'j_identity_blastn', 'j_alignment_length_blastn', 'j_number_of_mismatches_blastn', 'j_number_of_gap_openings_blastn', 'j_sequence_start_blastn', 'j_sequence_end_blastn', 'j_germline_start_blastn', 'j_germline_end_blastn', 'j_support_blastn', 'j_score_blastn', 'j_sequence_alignment_blastn', 'j_germline_alignment_blastn', 'j_source', 'd_support_igblastn', 'd_score_igblastn', 'd_call_igblastn', 'd_call_blastn', 'd_identity_blastn', 'd_alignment_length_blastn', 'd_number_of_mismatches_blastn', 'd_number_of_gap_openings_blastn', 'd_sequence_start_blastn', 'd_sequence_end_blastn', 'd_germline_start_blastn', 'd_germline_end_blastn', 'd_support_blastn', 'd_score_blastn', 'd_sequence_alignment_blastn', 'd_germline_alignment_blastn', 'd_source', 'germline_alignment_d_mask', 'v_call_genotyped', 'sample_id', 'c_sequence_alignment', 'c_germline_alignment', 'c_sequence_start', 'c_sequence_end', 'c_score', 'c_identity', 'c_call_10x', 'junction_aa_length', 'fwr1_aa', 'fwr2_aa', 'fwr3_aa', 'fwr4_aa', 'cdr1_aa', 'cdr2_aa', 'cdr3_aa', 'sequence_alignment_aa', 'v_sequence_alignment_aa', 'd_sequence_alignment_aa', 'j_sequence_alignment_aa', 'complete_vdj', 'j_call_multimappers', 'j_call_multiplicity', 'j_call_sequence_start_multimappers', 'j_call_sequence_end_multimappers', 'j_call_support_multimappers', 'mu_count', 'ambiguous', 'extra', 'rearrangement_status', 'clone_id', 'changeo_clone_id'\n",
       "    metadata: 'clone_id', 'clone_id_by_size', 'sample_id', 'locus_VDJ', 'locus_VJ', 'productive_VDJ', 'productive_VJ', 'v_call_genotyped_VDJ', 'd_call_VDJ', 'j_call_VDJ', 'v_call_genotyped_VJ', 'j_call_VJ', 'c_call_VDJ', 'c_call_VJ', 'junction_VDJ', 'junction_VJ', 'junction_aa_VDJ', 'junction_aa_VJ', 'v_call_genotyped_B_VDJ', 'd_call_B_VDJ', 'j_call_B_VDJ', 'v_call_genotyped_B_VJ', 'j_call_B_VJ', 'c_call_B_VDJ', 'c_call_B_VJ', 'productive_B_VDJ', 'productive_B_VJ', 'umi_count_B_VDJ', 'umi_count_B_VJ', 'v_call_VDJ_main', 'v_call_VJ_main', 'd_call_VDJ_main', 'j_call_VDJ_main', 'j_call_VJ_main', 'c_call_VDJ_main', 'c_call_VJ_main', 'v_call_B_VDJ_main', 'd_call_B_VDJ_main', 'j_call_B_VDJ_main', 'v_call_B_VJ_main', 'j_call_B_VJ_main', 'isotype', 'isotype_status', 'locus_status', 'chain_status', 'rearrangement_status_VDJ', 'rearrangement_status_VJ', 'changeo_clone_id'"
      ]
     },
     "execution_count": 10,
     "metadata": {},
     "output_type": "execute_result"
    }
   ],
   "source": [
    "ddl.tl.define_clones(vdj, key_added=\"changeo_clone_id\")\n",
    "vdj"
   ]
  },
  {
   "cell_type": "markdown",
   "metadata": {},
   "source": [
    "Note that I specified the option `key_added` and this adds the output from `tl.define_clones` into a separate column. If left as default (`None`), it will write into `clone_id` column. The same option can be specified in `tl.find_clones` earlier."
   ]
  },
  {
   "cell_type": "markdown",
   "metadata": {},
   "source": [
    "## Generation of V(D)J network\n",
    "*dandelion* generates a network to facilitate visualisation of results, inspired from [[Bashford-Rogers2013]](https://genome.cshlp.org/content/23/11/1874). This uses the full V(D)J contig sequences instead of just the junctional sequences to chart a tree-like network for each clone. The actual visualization will be achieved through `scanpy` later.\n",
    "\n",
    "### `ddl.tl.generate_network`\n",
    "\n",
    "First we need to generate the network. `ddl.tl.generate_network` will take a V(D)J table that has clones defined, specifically under the `'clone_id'` column. The default mode is to use amino acid sequences for constructing Levenshtein distance matrices, but can be toggled using the `key` option.\n",
    "\n",
    "If you have a pre-processed table parsed from immcantation's [method](https://changeo.readthedocs.io/en/stable/examples/10x.html), or any other method as long as it's in a *AIRR* format, the table can be used as well.\n",
    "\n",
    "You can specify the `clone_key` option for generating the network for the clone id definition of choice as long as it exists as a column in the `.data` slot."
   ]
  },
  {
   "cell_type": "markdown",
   "metadata": {},
   "source": [
    "Before proceeding, let's do a bit of subsetting. Here I want to remove the Orphan VJ cells (lacking BCR heavy chain i.e. VDJ information). Whether or not you want to do this is up to you. I'm doing this because I want to focus on the BCR heavy chain for now. You may elect to keep everything and that can be your starting point for further analysis."
   ]
  },
  {
   "cell_type": "code",
   "execution_count": 11,
   "metadata": {},
   "outputs": [
    {
     "data": {
      "text/plain": [
       "Dandelion class object with n_obs = 2115 and n_contigs = 5060\n",
       "    data: 'sequence_id', 'sequence', 'rev_comp', 'productive', 'v_call', 'd_call', 'j_call', 'sequence_alignment', 'germline_alignment', 'junction', 'junction_aa', 'v_cigar', 'd_cigar', 'j_cigar', 'stop_codon', 'vj_in_frame', 'locus', 'c_call', 'junction_length', 'np1_length', 'np2_length', 'v_sequence_start', 'v_sequence_end', 'v_germline_start', 'v_germline_end', 'd_sequence_start', 'd_sequence_end', 'd_germline_start', 'd_germline_end', 'j_sequence_start', 'j_sequence_end', 'j_germline_start', 'j_germline_end', 'v_score', 'v_identity', 'v_support', 'd_score', 'd_identity', 'd_support', 'j_score', 'j_identity', 'j_support', 'fwr1', 'fwr2', 'fwr3', 'fwr4', 'cdr1', 'cdr2', 'cdr3', 'cell_id', 'consensus_count', 'umi_count', 'v_call_10x', 'd_call_10x', 'j_call_10x', 'junction_10x', 'junction_10x_aa', 'j_support_igblastn', 'j_score_igblastn', 'j_call_igblastn', 'j_call_blastn', 'j_identity_blastn', 'j_alignment_length_blastn', 'j_number_of_mismatches_blastn', 'j_number_of_gap_openings_blastn', 'j_sequence_start_blastn', 'j_sequence_end_blastn', 'j_germline_start_blastn', 'j_germline_end_blastn', 'j_support_blastn', 'j_score_blastn', 'j_sequence_alignment_blastn', 'j_germline_alignment_blastn', 'j_source', 'd_support_igblastn', 'd_score_igblastn', 'd_call_igblastn', 'd_call_blastn', 'd_identity_blastn', 'd_alignment_length_blastn', 'd_number_of_mismatches_blastn', 'd_number_of_gap_openings_blastn', 'd_sequence_start_blastn', 'd_sequence_end_blastn', 'd_germline_start_blastn', 'd_germline_end_blastn', 'd_support_blastn', 'd_score_blastn', 'd_sequence_alignment_blastn', 'd_germline_alignment_blastn', 'd_source', 'germline_alignment_d_mask', 'v_call_genotyped', 'sample_id', 'c_sequence_alignment', 'c_germline_alignment', 'c_sequence_start', 'c_sequence_end', 'c_score', 'c_identity', 'c_call_10x', 'junction_aa_length', 'fwr1_aa', 'fwr2_aa', 'fwr3_aa', 'fwr4_aa', 'cdr1_aa', 'cdr2_aa', 'cdr3_aa', 'sequence_alignment_aa', 'v_sequence_alignment_aa', 'd_sequence_alignment_aa', 'j_sequence_alignment_aa', 'complete_vdj', 'j_call_multimappers', 'j_call_multiplicity', 'j_call_sequence_start_multimappers', 'j_call_sequence_end_multimappers', 'j_call_support_multimappers', 'mu_count', 'ambiguous', 'extra', 'rearrangement_status', 'clone_id', 'changeo_clone_id'\n",
       "    metadata: 'clone_id', 'clone_id_by_size', 'sample_id', 'locus_VDJ', 'locus_VJ', 'productive_VDJ', 'productive_VJ', 'v_call_genotyped_VDJ', 'd_call_VDJ', 'j_call_VDJ', 'v_call_genotyped_VJ', 'j_call_VJ', 'c_call_VDJ', 'c_call_VJ', 'junction_VDJ', 'junction_VJ', 'junction_aa_VDJ', 'junction_aa_VJ', 'v_call_genotyped_B_VDJ', 'd_call_B_VDJ', 'j_call_B_VDJ', 'v_call_genotyped_B_VJ', 'j_call_B_VJ', 'c_call_B_VDJ', 'c_call_B_VJ', 'productive_B_VDJ', 'productive_B_VJ', 'umi_count_B_VDJ', 'umi_count_B_VJ', 'v_call_VDJ_main', 'v_call_VJ_main', 'd_call_VDJ_main', 'j_call_VDJ_main', 'j_call_VJ_main', 'c_call_VDJ_main', 'c_call_VJ_main', 'v_call_B_VDJ_main', 'd_call_B_VDJ_main', 'j_call_B_VDJ_main', 'v_call_B_VJ_main', 'j_call_B_VJ_main', 'isotype', 'isotype_status', 'locus_status', 'chain_status', 'rearrangement_status_VDJ', 'rearrangement_status_VJ', 'changeo_clone_id'"
      ]
     },
     "execution_count": 11,
     "metadata": {},
     "output_type": "execute_result"
    }
   ],
   "source": [
    "vdj = vdj[\n",
    "    vdj.metadata.chain_status.isin(\n",
    "        [\"Single pair\", \"Extra pair\", \"Extra pair-exception\", \"Orphan VDJ\"]\n",
    "    )\n",
    "].copy()\n",
    "vdj"
   ]
  },
  {
   "cell_type": "code",
   "execution_count": 12,
   "metadata": {},
   "outputs": [
    {
     "name": "stdout",
     "output_type": "stream",
     "text": [
      "Generating network\n"
     ]
    },
    {
     "name": "stderr",
     "output_type": "stream",
     "text": [
      "Setting up data: 4434it [00:00, 7922.21it/s]\n",
      "Calculating distances : 100%|██████████| 2320/2320 [00:00<00:00, 12666.40it/s]\n",
      "Aggregating distances : 100%|██████████| 6/6 [00:00<00:00, 133.79it/s]\n",
      "Sorting into clusters : 100%|██████████| 2320/2320 [00:00<00:00, 4542.83it/s]\n",
      "Calculating minimum spanning tree : 100%|██████████| 35/35 [00:00<00:00, 1414.61it/s]\n",
      "Generating edge list : 100%|██████████| 35/35 [00:00<00:00, 5351.63it/s]\n",
      "Computing overlap : 100%|██████████| 2320/2320 [00:00<00:00, 3468.98it/s]\n",
      "Adjust overlap : 100%|██████████| 144/144 [00:00<00:00, 4799.85it/s]\n",
      "Linking edges : 100%|██████████| 2066/2066 [00:00<00:00, 59384.81it/s]\n"
     ]
    },
    {
     "name": "stdout",
     "output_type": "stream",
     "text": [
      "Computing network layout\n",
      "Computing expanded network layout\n",
      " finished: Updated Dandelion object: \n",
      "   'data', contig-indexed AIRR table\n",
      "   'metadata', cell-indexed observations table\n",
      "   'layout', graph layout\n",
      "   'graph', network constructed from distance matrices of VDJ- and VJ- chains (0:00:10)\n"
     ]
    }
   ],
   "source": [
    "ddl.tl.generate_network(vdj)"
   ]
  },
  {
   "cell_type": "markdown",
   "metadata": {},
   "source": [
    "In `dandelion` version `>=0.2.2`, the default `layout_method` is changed to `sfdp`, which is implemented through `graph-tool` [package](https://graph-tool.skewed.de/). This is significantly faster than the default modified Fruchterman-Reingold layout which while will work reasonably fast here, it will take quite a while when a lot of contigs are provided (>100k cells may take 1 hour). You can toggle this behaviour with:\n",
    "\n",
    "```python\n",
    "ddl.tl.generate_network(vdj, layout_method = 'mod_fr') # for the original\n",
    "ddl.tl.generate_network(vdj, layout_method = 'sfdp') # for sfdp\n",
    "```\n",
    "\n",
    "<div class=\"alert alert-info\">\n",
    "\n",
    "Generating graph without layout\n",
    "\n",
    "If you don't care for the layout and simply want access to the network/graph, you can do:\n",
    "<br>\n",
    "```python\n",
    "ddl.tl.generate_network(vdj, compute_layout = False)\n",
    "```\n",
    "<br>\n",
    "and use the networkx graphs in the graph slot and compute your own layout as you wish.\n",
    "\n",
    "In previous versions of dandelion, it used to be possible to generate the entire distance matrix for every pair of cell but this functionality was removed because it was too time consuming. If you are after this, please reach out to me and we can try and see if we can reimplement it!\n",
    "    \n",
    "</div>"
   ]
  },
  {
   "cell_type": "markdown",
   "metadata": {},
   "source": [
    "#### down sampling data/graph\n",
    "\n",
    "You can also downsample the number of cells. This will return a new object as a downsampled copy of the original with its own distance matrix. We will add `use_existing_graph=False` for this to work (otherwise it will just reuse the previous graph to recompute a layout; it will throw an error as it doesn't know what to do with downsampling)."
   ]
  },
  {
   "cell_type": "code",
   "execution_count": 13,
   "metadata": {},
   "outputs": [
    {
     "name": "stdout",
     "output_type": "stream",
     "text": [
      "Generating network\n",
      "Downsampling to 500 cells.\n"
     ]
    },
    {
     "name": "stderr",
     "output_type": "stream",
     "text": [
      "Setting up data: 1032it [00:00, 8094.95it/s]\n",
      "Calculating distances : 100%|██████████| 535/535 [00:00<00:00, 15464.66it/s]\n",
      "Aggregating distances : 100%|██████████| 4/4 [00:00<00:00, 1282.96it/s]\n",
      "Sorting into clusters : 100%|██████████| 535/535 [00:00<00:00, 7245.10it/s]\n",
      "Calculating minimum spanning tree : 100%|██████████| 3/3 [00:00<00:00, 1154.71it/s]\n",
      "Generating edge list : 100%|██████████| 3/3 [00:00<00:00, 3417.41it/s]\n",
      "Computing overlap : 100%|██████████| 535/535 [00:00<00:00, 5021.41it/s]\n",
      "Adjust overlap : 100%|██████████| 28/28 [00:00<00:00, 4587.88it/s]\n",
      "Linking edges : 100%|██████████| 493/493 [00:00<00:00, 116135.46it/s]\n"
     ]
    },
    {
     "name": "stdout",
     "output_type": "stream",
     "text": [
      "Computing network layout\n",
      "Computing expanded network layout\n",
      " finished: Updated Dandelion object: \n",
      "   'data', contig-indexed AIRR table\n",
      "   'metadata', cell-indexed observations table\n",
      "   'layout', graph layout\n",
      "   'graph', network constructed from distance matrices of VDJ- and VJ- chains (0:00:00)\n"
     ]
    },
    {
     "data": {
      "text/plain": [
       "Dandelion class object with n_obs = 500 and n_contigs = 1032\n",
       "    data: 'sequence_id', 'sequence', 'rev_comp', 'productive', 'v_call', 'd_call', 'j_call', 'sequence_alignment', 'germline_alignment', 'junction', 'junction_aa', 'v_cigar', 'd_cigar', 'j_cigar', 'stop_codon', 'vj_in_frame', 'locus', 'c_call', 'junction_length', 'np1_length', 'np2_length', 'v_sequence_start', 'v_sequence_end', 'v_germline_start', 'v_germline_end', 'd_sequence_start', 'd_sequence_end', 'd_germline_start', 'd_germline_end', 'j_sequence_start', 'j_sequence_end', 'j_germline_start', 'j_germline_end', 'v_score', 'v_identity', 'v_support', 'd_score', 'd_identity', 'd_support', 'j_score', 'j_identity', 'j_support', 'fwr1', 'fwr2', 'fwr3', 'fwr4', 'cdr1', 'cdr2', 'cdr3', 'cell_id', 'consensus_count', 'umi_count', 'v_call_10x', 'd_call_10x', 'j_call_10x', 'junction_10x', 'junction_10x_aa', 'j_support_igblastn', 'j_score_igblastn', 'j_call_igblastn', 'j_call_blastn', 'j_identity_blastn', 'j_alignment_length_blastn', 'j_number_of_mismatches_blastn', 'j_number_of_gap_openings_blastn', 'j_sequence_start_blastn', 'j_sequence_end_blastn', 'j_germline_start_blastn', 'j_germline_end_blastn', 'j_support_blastn', 'j_score_blastn', 'j_sequence_alignment_blastn', 'j_germline_alignment_blastn', 'j_source', 'd_support_igblastn', 'd_score_igblastn', 'd_call_igblastn', 'd_call_blastn', 'd_identity_blastn', 'd_alignment_length_blastn', 'd_number_of_mismatches_blastn', 'd_number_of_gap_openings_blastn', 'd_sequence_start_blastn', 'd_sequence_end_blastn', 'd_germline_start_blastn', 'd_germline_end_blastn', 'd_support_blastn', 'd_score_blastn', 'd_sequence_alignment_blastn', 'd_germline_alignment_blastn', 'd_source', 'germline_alignment_d_mask', 'v_call_genotyped', 'sample_id', 'c_sequence_alignment', 'c_germline_alignment', 'c_sequence_start', 'c_sequence_end', 'c_score', 'c_identity', 'c_call_10x', 'junction_aa_length', 'fwr1_aa', 'fwr2_aa', 'fwr3_aa', 'fwr4_aa', 'cdr1_aa', 'cdr2_aa', 'cdr3_aa', 'sequence_alignment_aa', 'v_sequence_alignment_aa', 'd_sequence_alignment_aa', 'j_sequence_alignment_aa', 'complete_vdj', 'j_call_multimappers', 'j_call_multiplicity', 'j_call_sequence_start_multimappers', 'j_call_sequence_end_multimappers', 'j_call_support_multimappers', 'mu_count', 'ambiguous', 'extra', 'rearrangement_status', 'clone_id', 'changeo_clone_id'\n",
       "    metadata: 'clone_id', 'clone_id_by_size', 'sample_id', 'locus_VDJ', 'locus_VJ', 'productive_VDJ', 'productive_VJ', 'v_call_genotyped_VDJ', 'd_call_VDJ', 'j_call_VDJ', 'v_call_genotyped_VJ', 'j_call_VJ', 'c_call_VDJ', 'c_call_VJ', 'junction_VDJ', 'junction_VJ', 'junction_aa_VDJ', 'junction_aa_VJ', 'v_call_genotyped_B_VDJ', 'd_call_B_VDJ', 'j_call_B_VDJ', 'v_call_genotyped_B_VJ', 'j_call_B_VJ', 'c_call_B_VDJ', 'c_call_B_VJ', 'productive_B_VDJ', 'productive_B_VJ', 'umi_count_B_VDJ', 'umi_count_B_VJ', 'v_call_VDJ_main', 'v_call_VJ_main', 'd_call_VDJ_main', 'j_call_VDJ_main', 'j_call_VJ_main', 'c_call_VDJ_main', 'c_call_VJ_main', 'v_call_B_VDJ_main', 'd_call_B_VDJ_main', 'j_call_B_VDJ_main', 'v_call_B_VJ_main', 'j_call_B_VJ_main', 'isotype', 'isotype_status', 'locus_status', 'chain_status', 'rearrangement_status_VDJ', 'rearrangement_status_VJ', 'changeo_clone_id'\n",
       "    layout: layout for 500 vertices, layout for 10 vertices\n",
       "    graph: networkx graph of 500 vertices, networkx graph of 10 vertices "
      ]
     },
     "execution_count": 13,
     "metadata": {},
     "output_type": "execute_result"
    }
   ],
   "source": [
    "vdj_downsample = ddl.tl.generate_network(\n",
    "    vdj, downsample=500, use_existing_graph=False\n",
    ")\n",
    "vdj_downsample"
   ]
  },
  {
   "cell_type": "markdown",
   "metadata": {},
   "source": [
    "<b>check the newly re-initialized Dandelion object</b>"
   ]
  },
  {
   "cell_type": "code",
   "execution_count": 14,
   "metadata": {},
   "outputs": [
    {
     "data": {
      "text/plain": [
       "Dandelion class object with n_obs = 2115 and n_contigs = 5060\n",
       "    data: 'sequence_id', 'sequence', 'rev_comp', 'productive', 'v_call', 'd_call', 'j_call', 'sequence_alignment', 'germline_alignment', 'junction', 'junction_aa', 'v_cigar', 'd_cigar', 'j_cigar', 'stop_codon', 'vj_in_frame', 'locus', 'c_call', 'junction_length', 'np1_length', 'np2_length', 'v_sequence_start', 'v_sequence_end', 'v_germline_start', 'v_germline_end', 'd_sequence_start', 'd_sequence_end', 'd_germline_start', 'd_germline_end', 'j_sequence_start', 'j_sequence_end', 'j_germline_start', 'j_germline_end', 'v_score', 'v_identity', 'v_support', 'd_score', 'd_identity', 'd_support', 'j_score', 'j_identity', 'j_support', 'fwr1', 'fwr2', 'fwr3', 'fwr4', 'cdr1', 'cdr2', 'cdr3', 'cell_id', 'consensus_count', 'umi_count', 'v_call_10x', 'd_call_10x', 'j_call_10x', 'junction_10x', 'junction_10x_aa', 'j_support_igblastn', 'j_score_igblastn', 'j_call_igblastn', 'j_call_blastn', 'j_identity_blastn', 'j_alignment_length_blastn', 'j_number_of_mismatches_blastn', 'j_number_of_gap_openings_blastn', 'j_sequence_start_blastn', 'j_sequence_end_blastn', 'j_germline_start_blastn', 'j_germline_end_blastn', 'j_support_blastn', 'j_score_blastn', 'j_sequence_alignment_blastn', 'j_germline_alignment_blastn', 'j_source', 'd_support_igblastn', 'd_score_igblastn', 'd_call_igblastn', 'd_call_blastn', 'd_identity_blastn', 'd_alignment_length_blastn', 'd_number_of_mismatches_blastn', 'd_number_of_gap_openings_blastn', 'd_sequence_start_blastn', 'd_sequence_end_blastn', 'd_germline_start_blastn', 'd_germline_end_blastn', 'd_support_blastn', 'd_score_blastn', 'd_sequence_alignment_blastn', 'd_germline_alignment_blastn', 'd_source', 'germline_alignment_d_mask', 'v_call_genotyped', 'sample_id', 'c_sequence_alignment', 'c_germline_alignment', 'c_sequence_start', 'c_sequence_end', 'c_score', 'c_identity', 'c_call_10x', 'junction_aa_length', 'fwr1_aa', 'fwr2_aa', 'fwr3_aa', 'fwr4_aa', 'cdr1_aa', 'cdr2_aa', 'cdr3_aa', 'sequence_alignment_aa', 'v_sequence_alignment_aa', 'd_sequence_alignment_aa', 'j_sequence_alignment_aa', 'complete_vdj', 'j_call_multimappers', 'j_call_multiplicity', 'j_call_sequence_start_multimappers', 'j_call_sequence_end_multimappers', 'j_call_support_multimappers', 'mu_count', 'ambiguous', 'extra', 'rearrangement_status', 'clone_id', 'changeo_clone_id'\n",
       "    metadata: 'clone_id', 'clone_id_by_size', 'sample_id', 'locus_VDJ', 'locus_VJ', 'productive_VDJ', 'productive_VJ', 'v_call_genotyped_VDJ', 'd_call_VDJ', 'j_call_VDJ', 'v_call_genotyped_VJ', 'j_call_VJ', 'c_call_VDJ', 'c_call_VJ', 'junction_VDJ', 'junction_VJ', 'junction_aa_VDJ', 'junction_aa_VJ', 'v_call_genotyped_B_VDJ', 'd_call_B_VDJ', 'j_call_B_VDJ', 'v_call_genotyped_B_VJ', 'j_call_B_VJ', 'c_call_B_VDJ', 'c_call_B_VJ', 'productive_B_VDJ', 'productive_B_VJ', 'umi_count_B_VDJ', 'umi_count_B_VJ', 'v_call_VDJ_main', 'v_call_VJ_main', 'd_call_VDJ_main', 'j_call_VDJ_main', 'j_call_VJ_main', 'c_call_VDJ_main', 'c_call_VJ_main', 'v_call_B_VDJ_main', 'd_call_B_VDJ_main', 'j_call_B_VDJ_main', 'v_call_B_VJ_main', 'j_call_B_VJ_main', 'isotype', 'isotype_status', 'locus_status', 'chain_status', 'rearrangement_status_VDJ', 'rearrangement_status_VJ', 'changeo_clone_id'\n",
       "    layout: layout for 2115 vertices, layout for 70 vertices\n",
       "    graph: networkx graph of 2115 vertices, networkx graph of 70 vertices "
      ]
     },
     "execution_count": 14,
     "metadata": {},
     "output_type": "execute_result"
    }
   ],
   "source": [
    "vdj"
   ]
  },
  {
   "cell_type": "markdown",
   "metadata": {},
   "source": [
    "The graph/networks can be accessed through the `.graph` slot as an [networkx](https://networkx.org/) graph object if you want to extract the data for network statistics or make any changes to the network."
   ]
  },
  {
   "cell_type": "markdown",
   "metadata": {},
   "source": [
    "At this point, we can save the dandelion object; the file can be quite big because the distance matrix is not sparse. I recommend some form of compression (I use `bzip2` below but that can impact on read/write times significantly). See [here](https://pandas.pydata.org/pandas-docs/stable/reference/api/pandas.DataFrame.to_hdf.html) for compression options."
   ]
  },
  {
   "cell_type": "code",
   "execution_count": 15,
   "metadata": {},
   "outputs": [],
   "source": [
    "vdj.write_h5ddl(\"dandelion_results.h5ddl\")"
   ]
  },
  {
   "cell_type": "code",
   "execution_count": null,
   "metadata": {},
   "outputs": [],
   "source": []
  }
 ],
 "metadata": {
  "kernelspec": {
   "display_name": "dandelion",
   "language": "python",
   "name": "python3"
  },
  "language_info": {
   "codemirror_mode": {
    "name": "ipython",
    "version": 3
   },
   "file_extension": ".py",
   "mimetype": "text/x-python",
   "name": "python",
   "nbconvert_exporter": "python",
   "pygments_lexer": "ipython3",
   "version": "3.11.9"
  }
 },
 "nbformat": 4,
 "nbformat_minor": 4
}
