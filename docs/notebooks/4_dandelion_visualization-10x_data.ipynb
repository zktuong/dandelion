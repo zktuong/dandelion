{
 "cells": [
  {
   "cell_type": "markdown",
   "metadata": {},
   "source": [
    "# Visualizing V(D)J data\n",
    "\n",
    "## Integration with `scanpy`\n",
    "Now that we have both 1) a pre-processed V(D)J data in `Dandelion` object and 2) matching `AnnData` object, we can start finding clones and *'integrate'* the results. All the V(D)J (AIRR) analyses files can be saved as *.tsv* format so that it can be used in other tools like *immcantation*, *immunoarch*, *vdjtools*, etc.\n",
    "\n",
    "The results can also be ported into the `AnnData` object for access to more plotting functions provided through `scanpy` [[Wolf2018]](https://doi.org/10.1186/s13059-017-1382-0)."
   ]
  },
  {
   "cell_type": "markdown",
   "metadata": {},
   "source": [
    "<b>Import modules</b>"
   ]
  },
  {
   "cell_type": "code",
   "execution_count": null,
   "metadata": {},
   "outputs": [],
   "source": [
    "import os\n",
    "import dandelion as ddl\n",
    "\n",
    "ddl.logging.print_header()"
   ]
  },
  {
   "cell_type": "code",
   "execution_count": null,
   "metadata": {},
   "outputs": [],
   "source": [
    "# change directory to somewhere more workable\n",
    "os.chdir(os.path.expanduser(\"~/Downloads/dandelion_tutorial/\"))\n",
    "# I'm importing scanpy here to make use of its logging module.\n",
    "import scanpy as sc\n",
    "\n",
    "sc.settings.verbosity = 3\n",
    "import warnings\n",
    "\n",
    "warnings.filterwarnings(\"ignore\")\n",
    "sc.logging.print_header()"
   ]
  },
  {
   "cell_type": "markdown",
   "metadata": {},
   "source": [
    "<b>Read in the previously saved files</b>\n",
    "\n",
    "I will work with the same example from the previous section since I have the `AnnData` object saved and vdj table filtered."
   ]
  },
  {
   "cell_type": "code",
   "execution_count": null,
   "metadata": {},
   "outputs": [],
   "source": [
    "adata = sc.read_h5ad(\"adata.h5ad\")"
   ]
  },
  {
   "cell_type": "code",
   "execution_count": null,
   "metadata": {},
   "outputs": [],
   "source": [
    "vdj = ddl.read_h5ddl(\"dandelion_results.h5ddl\")\n",
    "vdj"
   ]
  },
  {
   "cell_type": "markdown",
   "metadata": {},
   "source": [
    "### `tl.transfer`"
   ]
  },
  {
   "cell_type": "markdown",
   "metadata": {},
   "source": [
    "To proceed, we first need to initialise the `AnnData` object with our network. This is done by using the tool function `tl.transfer`."
   ]
  },
  {
   "cell_type": "code",
   "execution_count": null,
   "metadata": {},
   "outputs": [],
   "source": [
    "ddl.tl.transfer(adata, vdj)  # this will include singletons.\n",
    "adata"
   ]
  },
  {
   "cell_type": "markdown",
   "metadata": {},
   "source": [
    "To show only expanded clones, specify `expanded_only=True`"
   ]
  },
  {
   "cell_type": "code",
   "execution_count": null,
   "metadata": {},
   "outputs": [],
   "source": [
    "adata2 = adata.copy()\n",
    "ddl.tl.transfer(adata2, vdj, expanded_only=True)\n",
    "adata2"
   ]
  },
  {
   "cell_type": "markdown",
   "metadata": {},
   "source": [
    "<div class=\"alert alert-info\">\n",
    "\n",
    "Note\n",
    "    \n",
    "If a column with the same name between `Dandelion.metadata` and `AnnData.obs` already exists, `tl.transfer` will not overwrite the column in the `AnnData` object. This can be toggled to overwrite all with `overwrite=True` or `overwrite=[\"column_name1\", \"column_name2\"]` if only some columns are to be overwritten.\n",
    "\n",
    "</div>"
   ]
  },
  {
   "cell_type": "markdown",
   "metadata": {},
   "source": [
    "You can see that `AnnData` object now contains a couple more columns in the `.obs` slot, corresponding to the metadata that is returned after `tl.generate_network`, and newly populated `.obsm` and `.obsp` slots. The original RNA connectivities and distances are now added into the `.obsp` slot as well."
   ]
  },
  {
   "cell_type": "markdown",
   "metadata": {},
   "source": [
    "## Plotting in `scanpy`\n",
    "\n",
    "### `pl.clone_network`\n",
    "\n",
    "So now, basically we can plot in `scanpy` with their plotting modules. I've included a plotting function in <b>dandelion</b>, `pl.clone_network`, which is really just a wrapper of their `pl.embedding` module."
   ]
  },
  {
   "cell_type": "code",
   "execution_count": null,
   "metadata": {},
   "outputs": [],
   "source": [
    "sc.set_figure_params(figsize=[4, 4])\n",
    "ddl.pl.clone_network(adata, color=[\"sampleid\"], edges_width=1, size=20)\n",
    "# show where clones/clonotypes have more than 1 cell\n",
    "ddl.pl.clone_network(adata2, color=[\"sampleid\"], edges_width=1, size=20)"
   ]
  },
  {
   "cell_type": "markdown",
   "metadata": {},
   "source": [
    "<div class=\"alert alert-info\">\n",
    "\n",
    "Note\n",
    "\n",
    "if you prefer the original (modified) Fruchterman-Reingold layout, you can generate the layout with `layout_method=\"mod_fr\"`. Just note that this is significantly slower. Although the `X` and `Y` axes (`vdj1` and `vdj2`) are arbitrary, the `mod_fr` layout seems to produce more pronounced repulsion between clusters, so something to keep in mind for when trying to work with a lot of cells/clusters as it can lead to really pretty (or ugly) plots.\n",
    "    \n",
    "</div>"
   ]
  },
  {
   "cell_type": "code",
   "execution_count": null,
   "metadata": {},
   "outputs": [],
   "source": [
    "# making a copy of both adata and vdj\n",
    "vdj3 = vdj.copy()\n",
    "adata3 = adata.copy()\n",
    "# recompute layout with original method\n",
    "ddl.tl.generate_network(vdj3, layout_method=\"mod_fr\")\n",
    "ddl.tl.transfer(adata3, vdj3)\n",
    "# also for > 1 cells\n",
    "adata4 = adata3.copy()\n",
    "ddl.tl.transfer(adata4, vdj3, expanded_only=True)\n",
    "# visualise\n",
    "ddl.pl.clone_network(adata3, color=[\"sampleid\"], edges_width=1, size=20)\n",
    "# show where clones/clonotypes have more than 1 cell\n",
    "ddl.pl.clone_network(adata4, color=[\"sampleid\"], edges_width=1, size=20)"
   ]
  },
  {
   "cell_type": "markdown",
   "metadata": {},
   "source": [
    "### `tl.extract_edge_weights`"
   ]
  },
  {
   "cell_type": "markdown",
   "metadata": {},
   "source": [
    "<b>dandelion</b> provides an edge weight extractor tool `tl.extract_edge_weights` to retrieve the edge weights that can be used to specify the edge widths according to weight/distance."
   ]
  },
  {
   "cell_type": "code",
   "execution_count": null,
   "metadata": {},
   "outputs": [],
   "source": [
    "# To illustrate this, first recompute the graph by specifying a minimum size\n",
    "vdjx = vdj.copy()\n",
    "adatax = adata.copy()\n",
    "ddl.tl.generate_network(\n",
    "    vdjx, min_size=3\n",
    ")  # second graph will only contain clones/clonotypes with >= 3 cells\n",
    "ddl.tl.transfer(adatax, vdjx, expanded_only=True)\n",
    "\n",
    "edgeweights = [\n",
    "    1 / (e + 1) for e in ddl.tl.extract_edge_weights(vdjx)\n",
    "]  # invert and add 1 to each edge weight (e) so that distance of 0 becomes the thickest edge\n",
    "# therefore, the thicker the line, the shorter the edit distance.\n",
    "ddl.pl.clone_network(\n",
    "    adatax,\n",
    "    color=[\"isotype_status\"],\n",
    "    legend_fontoutline=3,\n",
    "    edges_width=edgeweights,\n",
    "    size=50,\n",
    ")"
   ]
  },
  {
   "cell_type": "markdown",
   "metadata": {},
   "source": [
    "`None` here means there is no isotype information i.e. no `c_call`. If `No_contig` appears, it means there's no V(D)J information."
   ]
  },
  {
   "cell_type": "markdown",
   "metadata": {},
   "source": [
    "You can interact with `pl.clone_network` just as how you interact with the rest of the scatterplot modules in `scanpy`."
   ]
  },
  {
   "cell_type": "code",
   "execution_count": null,
   "metadata": {},
   "outputs": [],
   "source": [
    "sc.set_figure_params(figsize=[4, 4.5])\n",
    "ddl.pl.clone_network(\n",
    "    adata,\n",
    "    color=[\"locus_status\", \"chain_status\"],\n",
    "    ncols=1,\n",
    "    legend_fontoutline=3,\n",
    "    edges_width=1,\n",
    "    size=20,\n",
    ")"
   ]
  },
  {
   "cell_type": "markdown",
   "metadata": {},
   "source": [
    "you should be able to save the adata object and interact with it as per normal."
   ]
  },
  {
   "cell_type": "code",
   "execution_count": null,
   "metadata": {},
   "outputs": [],
   "source": [
    "adata.write(\"adata.h5ad\", compression=\"gzip\")"
   ]
  },
  {
   "cell_type": "markdown",
   "metadata": {},
   "source": [
    "## Calculating size of clones\n",
    "\n",
    "### `tl.clone_size`\n",
    "\n",
    "Sometimes it's useful to evaluate the size of the clone. Here `tl.quantify_clone_size` does a simple calculation to enable that."
   ]
  },
  {
   "cell_type": "code",
   "execution_count": null,
   "metadata": {},
   "outputs": [],
   "source": [
    "ddl.tl.clone_size(vdj)\n",
    "ddl.tl.transfer(adata, vdj)"
   ]
  },
  {
   "cell_type": "code",
   "execution_count": null,
   "metadata": {},
   "outputs": [],
   "source": [
    "sc.set_figure_params(figsize=[5, 4.5])\n",
    "ddl.pl.clone_network(\n",
    "    adata,\n",
    "    color=[\"clone_id_size\"],\n",
    "    legend_fontoutline=3,\n",
    "    edges_width=1,\n",
    "    size=20,\n",
    "    color_map=\"viridis\",\n",
    ")\n",
    "sc.pl.umap(adata, color=[\"clone_id_size\"], color_map=\"viridis\")"
   ]
  },
  {
   "cell_type": "markdown",
   "metadata": {},
   "source": [
    "You can also specify `max_size` to clip off the calculation at a fixed value."
   ]
  },
  {
   "cell_type": "code",
   "execution_count": null,
   "metadata": {},
   "outputs": [],
   "source": [
    "ddl.tl.clone_size(vdj, max_size=3)\n",
    "ddl.tl.transfer(adata, vdj)"
   ]
  },
  {
   "cell_type": "code",
   "execution_count": null,
   "metadata": {},
   "outputs": [],
   "source": [
    "sc.set_figure_params(figsize=[4.5, 4.5])\n",
    "ddl.pl.clone_network(\n",
    "    adata,\n",
    "    color=[\"clone_id_size_max_3\"],\n",
    "    ncols=2,\n",
    "    legend_fontoutline=3,\n",
    "    edges_width=1,\n",
    "    palette=[\"grey\", \"blue\", \"red\"],\n",
    "    size=20,\n",
    "    na_in_legend=False,\n",
    ")\n",
    "sc.pl.umap(\n",
    "    adata[adata.obs[\"has_contig\"] == \"True\"],\n",
    "    color=[\"clone_id_size_max_3\"],\n",
    "    groups=[\"2\", \">= 3\"],\n",
    "    size=10,\n",
    "    na_in_legend=False,\n",
    ")"
   ]
  },
  {
   "cell_type": "markdown",
   "metadata": {},
   "source": [
    "## Additional plotting functions\n",
    "\n",
    "### `ddl.pl.barplot`\n",
    "`pl.barplot` is a generic barplot function that will plot items in the metadata slot as a bar plot. This function will also interact with `.obs` slot if a `scanpy` object is used in place of `Dandelion` object. However, if your `scanpy` object holds a lot of non-B cells, then the plotting will be just be saturated with nan values."
   ]
  },
  {
   "cell_type": "code",
   "execution_count": null,
   "metadata": {},
   "outputs": [],
   "source": [
    "import matplotlib as mpl\n",
    "import matplotlib.pyplot as plt\n",
    "\n",
    "mpl.rcParams.update(mpl.rcParamsDefault)\n",
    "\n",
    "fig, ax = ddl.pl.barplot(\n",
    "    vdj[vdj.metadata.isotype_status != \"Multi\"],  # remove multi from the plots\n",
    "    color=\"v_call_genotyped_VDJ\",\n",
    ")\n",
    "plt.show()"
   ]
  },
  {
   "cell_type": "markdown",
   "metadata": {},
   "source": [
    "You can prevent it from sorting by specifying `sort_descending = None`. Colours can be changed with `palette` option."
   ]
  },
  {
   "cell_type": "code",
   "execution_count": null,
   "metadata": {},
   "outputs": [],
   "source": [
    "fig, ax = ddl.pl.barplot(\n",
    "    vdj[vdj.metadata.isotype_status != \"Multi\"],\n",
    "    color=\"v_call_genotyped_VDJ\",\n",
    "    sort_descending=None,\n",
    "    palette=\"tab20\",\n",
    ")\n",
    "plt.show()"
   ]
  },
  {
   "cell_type": "markdown",
   "metadata": {},
   "source": [
    "Specifying `normalize = False` will change the y-axis to counts."
   ]
  },
  {
   "cell_type": "code",
   "execution_count": null,
   "metadata": {},
   "outputs": [],
   "source": [
    "fig, ax = ddl.pl.barplot(\n",
    "    vdj[vdj.metadata.isotype_status != \"Multi\"],\n",
    "    color=\"v_call_genotyped_VDJ\",\n",
    "    normalize=False,\n",
    "    sort_descending=None,\n",
    "    palette=\"tab20\",\n",
    ")\n",
    "plt.show()"
   ]
  },
  {
   "cell_type": "markdown",
   "metadata": {},
   "source": [
    "### `pl.stackedbarplot`\n",
    "`pl.stackedbarplot` is similar to above but can split between specified groups. Some examples below:"
   ]
  },
  {
   "cell_type": "code",
   "execution_count": null,
   "metadata": {},
   "outputs": [],
   "source": [
    "fig, ax = ddl.pl.stackedbarplot(\n",
    "    vdj[vdj.metadata.isotype_status != \"Multi\"],\n",
    "    color=\"isotype_status\",\n",
    "    groupby=\"locus_status\",\n",
    "    xtick_rotation=0,\n",
    "    figsize=(4, 3),\n",
    ")\n",
    "plt.legend(bbox_to_anchor=(1, 1), loc=\"upper left\", frameon=False)\n",
    "plt.show()"
   ]
  },
  {
   "cell_type": "code",
   "execution_count": null,
   "metadata": {},
   "outputs": [],
   "source": [
    "fig, ax = ddl.pl.stackedbarplot(\n",
    "    vdj[vdj.metadata.chain_status != \"Multi\"],\n",
    "    color=\"v_call_genotyped_VDJ\",\n",
    "    groupby=\"isotype_status\",\n",
    ")\n",
    "plt.legend(bbox_to_anchor=(1, 1), loc=\"upper left\", frameon=False)\n",
    "plt.show()"
   ]
  },
  {
   "cell_type": "code",
   "execution_count": null,
   "metadata": {},
   "outputs": [],
   "source": [
    "ddl.pl.stackedbarplot(\n",
    "    vdj[vdj.metadata.isotype_status != \"Multi\"],\n",
    "    color=\"v_call_genotyped_VDJ\",\n",
    "    groupby=\"isotype_status\",\n",
    "    normalize=True,\n",
    ")\n",
    "plt.legend(bbox_to_anchor=(1, 1), loc=\"upper left\", frameon=False)\n",
    "plt.show()"
   ]
  },
  {
   "cell_type": "code",
   "execution_count": null,
   "metadata": {},
   "outputs": [],
   "source": [
    "fig, ax = ddl.pl.stackedbarplot(\n",
    "    vdj[vdj.metadata.isotype_status != \"Multi\"],\n",
    "    color=\"v_call_genotyped_VDJ\",\n",
    "    groupby=\"chain_status\",\n",
    ")\n",
    "plt.legend(bbox_to_anchor=(1, 1), loc=\"upper left\", frameon=False)\n",
    "plt.show()"
   ]
  },
  {
   "cell_type": "markdown",
   "metadata": {},
   "source": [
    "It's obviously more useful if you don't have too many groups, but you could try and plot everything and jiggle the legend options and color."
   ]
  },
  {
   "cell_type": "code",
   "execution_count": null,
   "metadata": {},
   "outputs": [],
   "source": [
    "fig, ax = ddl.pl.stackedbarplot(\n",
    "    vdj[vdj.metadata.isotype_status != \"Multi\"],\n",
    "    color=\"v_call_genotyped_VDJ\",\n",
    "    groupby=\"sample_id\",\n",
    ")\n",
    "plt.legend(bbox_to_anchor=(1, 0.5), loc=\"center left\", frameon=False)\n",
    "plt.show()"
   ]
  },
  {
   "cell_type": "markdown",
   "metadata": {},
   "source": [
    "### `ddl.pl.spectratype`\n",
    "Spectratype plots contain info displaying CDR3 length distribution for specified groups. For this function, the current method only works for `dandelion` objects as it requires access to the contig-indexed *.data* slot."
   ]
  },
  {
   "cell_type": "code",
   "execution_count": null,
   "metadata": {},
   "outputs": [],
   "source": [
    "fig, ax = ddl.pl.spectratype(\n",
    "    vdj[vdj.metadata.isotype_status != \"Multi\"],\n",
    "    color=\"junction_length\",\n",
    "    groupby=\"c_call\",\n",
    "    locus=\"IGH\",\n",
    "    width=2.3,\n",
    ")\n",
    "plt.legend(bbox_to_anchor=(1, 1), loc=\"upper left\", frameon=False)\n",
    "plt.show()"
   ]
  },
  {
   "cell_type": "code",
   "execution_count": null,
   "metadata": {},
   "outputs": [],
   "source": [
    "fig, ax = ddl.pl.spectratype(\n",
    "    vdj[vdj.metadata.isotype_status != \"Multi\"],\n",
    "    color=\"junction_aa_length\",\n",
    "    groupby=\"c_call\",\n",
    "    locus=\"IGH\",\n",
    ")\n",
    "plt.legend(bbox_to_anchor=(1, 1), loc=\"upper left\", frameon=False)\n",
    "plt.show()"
   ]
  },
  {
   "cell_type": "code",
   "execution_count": null,
   "metadata": {},
   "outputs": [],
   "source": [
    "fig, ax = ddl.pl.spectratype(\n",
    "    vdj[vdj.metadata.isotype_status != \"Multi\"],\n",
    "    color=\"junction_aa_length\",\n",
    "    groupby=\"c_call\",\n",
    "    locus=[\"IGK\", \"IGL\"],\n",
    ")\n",
    "plt.legend(bbox_to_anchor=(1, 1), loc=\"upper left\", frameon=False)\n",
    "plt.show()"
   ]
  },
  {
   "cell_type": "markdown",
   "metadata": {},
   "source": [
    "### `ddl.pl.clone_overlap`\n",
    "There is now a circos-style clone overlap function where it looks for whather different samples share a clone. If they do, an arc/connection will be drawn between them."
   ]
  },
  {
   "cell_type": "code",
   "execution_count": null,
   "metadata": {},
   "outputs": [],
   "source": [
    "ddl.tl.clone_overlap(adata, groupby=\"leiden\")"
   ]
  },
  {
   "cell_type": "code",
   "execution_count": null,
   "metadata": {},
   "outputs": [],
   "source": [
    "sc.set_figure_params(figsize=[6, 6])\n",
    "ddl.pl.clone_overlap(adata, groupby=\"leiden\")\n",
    "plt.show()"
   ]
  },
  {
   "cell_type": "markdown",
   "metadata": {},
   "source": [
    "Other use cases for this would be, for example, to plot nodes as individual samples and the colors as group classifications of the samples. As long as this information is found in the `.obs` column in the `AnnData`, or even `Dandelion.metadata`, this will work."
   ]
  },
  {
   "cell_type": "markdown",
   "metadata": {},
   "source": [
    "You an also specify `weighted_overlap = True` and the thickness of the edges will reflect the number of cells found to overlap between the nodes/samples."
   ]
  },
  {
   "cell_type": "code",
   "execution_count": null,
   "metadata": {},
   "outputs": [],
   "source": [
    "ddl.tl.clone_overlap(adata, groupby=\"leiden\", weighted_overlap=True)\n",
    "ddl.pl.clone_overlap(adata, groupby=\"leiden\", weighted_overlap=True)\n",
    "plt.show()"
   ]
  },
  {
   "cell_type": "markdown",
   "metadata": {},
   "source": [
    "You can also specify `colorby` option. For example, if you provide a combined column to `groupby`, like `group_leiden`, you can specify `group`, `leiden` or `group_leiden` to `colorby`. Experiment around to see the different behaviour!"
   ]
  },
  {
   "cell_type": "markdown",
   "metadata": {},
   "source": [
    "You can also visualise this as a heatmap by specifying `as_heatmap = True`."
   ]
  },
  {
   "cell_type": "code",
   "execution_count": null,
   "metadata": {},
   "outputs": [],
   "source": [
    "import seaborn as sns\n",
    "\n",
    "sns.set(font_scale=0.8)\n",
    "\n",
    "ddl.pl.clone_overlap(\n",
    "    adata,\n",
    "    groupby=\"leiden\",\n",
    "    weighted_overlap=True,\n",
    "    as_heatmap=True,\n",
    "    # seaborn clustermap kwargs\n",
    "    cmap=\"Blues\",\n",
    "    annot=True,\n",
    "    figsize=(8, 8),\n",
    "    annot_kws={\"size\": 10},\n",
    "    fmt=\"g\",\n",
    ")\n",
    "plt.show()"
   ]
  },
  {
   "cell_type": "markdown",
   "metadata": {},
   "source": [
    "Note: `colorby` option with `as_heatmap=True` doesn't do anything."
   ]
  },
  {
   "cell_type": "markdown",
   "metadata": {},
   "source": [
    "### `tl.vj_usage_pca`\n",
    "\n",
    "You can also compute the V/J gene usage in your various groups of interest. This function will return a new `AnnData` where instead of `cells` (obs) by `gene` (var), it will be `groupby` (obs) by `V/J genes` (var).\n",
    "\n",
    "For example, I'm interested if the leiden clusters within each donor's sample use V/J genes differently:"
   ]
  },
  {
   "cell_type": "code",
   "execution_count": null,
   "metadata": {},
   "outputs": [],
   "source": [
    "# first make a concatenated group\n",
    "adata.obs[\"sampleid_leiden\"] = [\n",
    "    s + \"_\" + l for s, l in zip(adata.obs[\"sampleid\"], adata.obs[\"leiden\"])\n",
    "]\n",
    "new_adata = ddl.tl.vj_usage_pca(\n",
    "    adata,\n",
    "    groupby=\"sampleid_leiden\",\n",
    "    mode=\"B\",  # because B cells, use abT and gdT for alpha-beta and gamma-delta T cells respectively\n",
    "    transfer_mapping=[\n",
    "        \"sampleid\",\n",
    "        \"leiden\",\n",
    "    ],  # this transfers the sample_id and leiden values separately. if not provided, only sample_id_leiden is transferred.\n",
    "    n_comps=3,  # 3 because the example is small here. the default is set at 30\n",
    ")\n",
    "new_adata"
   ]
  },
  {
   "cell_type": "code",
   "execution_count": null,
   "metadata": {},
   "outputs": [],
   "source": [
    "sc.set_figure_params()\n",
    "\n",
    "sc.pl.pca(new_adata, color=\"leiden\", size=new_adata.obs[\"cell_count\"])\n",
    "# each dot is a `sample_id_leiden`. Check the .obs"
   ]
  },
  {
   "cell_type": "markdown",
   "metadata": {},
   "source": [
    "### `tl.productive_ratio`/`pl.productive_ratio`\n",
    "\n",
    "This new function lets you quantify what is the distribution of productive versus non-productive contigs at a cell-level. To do this, we need to re-check the `Dandelion` object so that non-productive columns are not removed."
   ]
  },
  {
   "cell_type": "code",
   "execution_count": null,
   "metadata": {},
   "outputs": [],
   "source": [
    "vdj2, adata2 = ddl.pp.check_contigs(vdj, adata, productive_only=False)"
   ]
  },
  {
   "cell_type": "code",
   "execution_count": null,
   "metadata": {},
   "outputs": [],
   "source": [
    "ddl.tl.productive_ratio(adata2, vdj2, groupby=\"leiden\", locus=\"IGK\")"
   ]
  },
  {
   "cell_type": "code",
   "execution_count": null,
   "metadata": {},
   "outputs": [],
   "source": [
    "ddl.pl.productive_ratio(adata2, palette=[\"red\", \"lightgrey\"])\n",
    "plt.tight_layout()\n",
    "# plt.savefig('plot.pdf')\n",
    "plt.show()"
   ]
  },
  {
   "cell_type": "code",
   "execution_count": null,
   "metadata": {},
   "outputs": [],
   "source": []
  }
 ],
 "metadata": {
  "language_info": {
   "codemirror_mode": {
    "name": "ipython",
    "version": 3
   },
   "file_extension": ".py",
   "mimetype": "text/x-python",
   "name": "python",
   "nbconvert_exporter": "python",
   "pygments_lexer": "ipython3",
   "version": "3.11.9"
  }
 },
 "nbformat": 4,
 "nbformat_minor": 4
}
