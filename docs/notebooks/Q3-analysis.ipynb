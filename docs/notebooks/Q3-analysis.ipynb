{
 "cells": [
  {
   "cell_type": "markdown",
   "id": "0",
   "metadata": {},
   "source": [
    "# V(D)J analysis"
   ]
  },
  {
   "cell_type": "code",
   "execution_count": null,
   "id": "1",
   "metadata": {},
   "outputs": [],
   "source": [
    "import dandelion as ddl\n",
    "import scanpy as sc\n",
    "import warnings\n",
    "import os\n",
    "\n",
    "warnings.filterwarnings(\"ignore\")\n",
    "sc.settings.set_figure_params(dpi=80)"
   ]
  },
  {
   "cell_type": "markdown",
   "id": "2",
   "metadata": {},
   "source": [
    "Let's run through some of what Dandelion can do in terms of analysis. In order to kickstart this tutorial, we prepared GEX and VDJ objects with four demo 10X samples parsed for your convenience. The previous notebook shows how this was done, with the VDJ loading into Dandelion likely of most interest due to the syntax required."
   ]
  },
  {
   "cell_type": "code",
   "execution_count": null,
   "id": "3",
   "metadata": {},
   "outputs": [],
   "source": [
    "if not os.path.exists(\"demo-gex.h5ad\"):\n",
    "    os.system(\"wget ftp://ftp.sanger.ac.uk/pub/users/kp9/demo-gex.h5ad\")\n",
    "\n",
    "if not os.path.exists(\"demo-vdj.h5ddl\"):\n",
    "    os.system(\"wget ftp://ftp.sanger.ac.uk/pub/users/kp9/demo-vdj.h5ddl\")\n"
   ]
  },
  {
   "cell_type": "markdown",
   "id": "4",
   "metadata": {},
   "source": [
    "Let's import the objects. Dandelion's `h5ddl` files can be read via `ddl.read_h5ddl()`."
   ]
  },
  {
   "cell_type": "code",
   "execution_count": null,
   "id": "5",
   "metadata": {},
   "outputs": [],
   "source": [
    "adata = sc.read(\"demo-gex.h5ad\")\n",
    "vdj = ddl.read_h5ddl(\"demo-vdj.h5ddl\")\n"
   ]
  },
  {
   "cell_type": "markdown",
   "id": "6",
   "metadata": {},
   "source": [
    "At this point you're probably wondering why there's a separate Dandelion object. The reason is AIRR compliance. Some of the AIRR columns have more complex typing than what Scanpy can currently support within its objects. However, it's quite straightforward to link up a Scanpy object with a Dandelion one."
   ]
  },
  {
   "cell_type": "code",
   "execution_count": null,
   "id": "7",
   "metadata": {},
   "outputs": [],
   "source": [
    "vdj, adata = ddl.pp.check_contigs(vdj, adata)\n"
   ]
  },
  {
   "cell_type": "markdown",
   "id": "8",
   "metadata": {},
   "source": [
    "This filters the contigs and synchronises relevant information between the objects. Once linked up like this, any new information can be copied over from the Dandelion object via `ddl.tl.transfer()`. There will be an example later in the notebook.\n",
    "\n",
    "For now, let's take a look at the chain status (as gotten from the Dandelion object) and known BCR marker expression."
   ]
  },
  {
   "cell_type": "code",
   "execution_count": null,
   "id": "9",
   "metadata": {},
   "outputs": [],
   "source": [
    "sc.pl.umap(adata, color=[\"IGHM\", \"JCHAIN\", \"chain_status\"])"
   ]
  },
  {
   "cell_type": "markdown",
   "id": "10",
   "metadata": {},
   "source": [
    "Under the hood, the Dandelion object is essentially two data frames. `.data` holds the AIRR-compliant contig space table, while `.metadata` is an `.obs` equivalent that parses the contig information to a cell level and can be easily integrated with a Scanpy object. There are also `ddl.to_scirpy()` and `ddl.from_scirpy()` for interoperability with Scirpy, as explored in a notebook in the advanced guide. Scirpy also offers its own conversion functions.\n",
    "\n",
    "The thing you're most likely to find yourself doing manually with the Dandelion object is modifying cell names to match your GEX naming convention. The cell names can be found in `.data.cell_id`, change those however you see fit and then call `.update_metadata()` to regenerate the per-cell `.obs` equivalent.\n",
    "\n",
    "```\n",
    "vdj.data.cell_id = [result of modification procedure on existing vdj.data.cell_id]\n",
    "vdj.update_metadata()\n",
    "```"
   ]
  },
  {
   "cell_type": "code",
   "execution_count": null,
   "id": "11",
   "metadata": {},
   "outputs": [],
   "source": [
    "vdj\n"
   ]
  },
  {
   "cell_type": "markdown",
   "id": "12",
   "metadata": {},
   "source": [
    "Now that we've got the gist of basic handling of the Dandelion object, let's use it for some analysis!\n",
    "\n",
    "A core element of VDJ analysis is clonotype calling, roughly equivalent to clustering cells in GEX processing. Dandelion requires the clones it calls to have identical V and J genes, along with no more than 15% mismatches in the CDR3 sequences ([common practice](https://royalsocietypublishing.org/doi/10.1098/rstb.2014.0239) in BCR analysis).\n",
    "\n",
    "For TCR clonotype calling, you can perform common practice nucleotide sequence identity by passing `identity=1` and `key=\"junction\"` to the function."
   ]
  },
  {
   "cell_type": "code",
   "execution_count": null,
   "id": "13",
   "metadata": {},
   "outputs": [],
   "source": [
    "ddl.tl.find_clones(vdj)\n"
   ]
  },
  {
   "cell_type": "markdown",
   "id": "14",
   "metadata": {},
   "source": [
    "We can compute a graph based on Levenshtein distance of the complete contig sequence. A NetworkX representation of it is now saved in `vdj.graph`."
   ]
  },
  {
   "cell_type": "code",
   "execution_count": null,
   "id": "15",
   "metadata": {},
   "outputs": [],
   "source": [
    "ddl.tl.generate_network(vdj)\n"
   ]
  },
  {
   "cell_type": "markdown",
   "id": "16",
   "metadata": {},
   "source": [
    "Since we now know what our clonotype calls are, we can quantify clonal expansion. It's possible to cap this at a desired maximum clonotype size."
   ]
  },
  {
   "cell_type": "code",
   "execution_count": null,
   "id": "17",
   "metadata": {},
   "outputs": [],
   "source": [
    "ddl.tl.clone_size(vdj)\n",
    "# this makes an independent column with the provided max_size in its name\n",
    "ddl.tl.clone_size(vdj, max_size=3)"
   ]
  },
  {
   "cell_type": "markdown",
   "id": "18",
   "metadata": {},
   "source": [
    "Now that our Dandelion object has analysis information inside it, we can copy it over to the Scanpy object to have access to it there. The graph gets turned into the Scanpy standard forms of `.obsp['vdj_distances']` and `.obsp['vdj_connectivites']` for potential downstream use."
   ]
  },
  {
   "cell_type": "code",
   "execution_count": null,
   "id": "19",
   "metadata": {},
   "outputs": [],
   "source": [
    "ddl.tl.transfer(adata, vdj)\n"
   ]
  },
  {
   "cell_type": "markdown",
   "id": "20",
   "metadata": {},
   "source": [
    "Let's take a look at what we made!"
   ]
  },
  {
   "cell_type": "code",
   "execution_count": null,
   "id": "21",
   "metadata": {},
   "outputs": [],
   "source": [
    "ddl.pl.clone_network(adata, color=\"clone_id_size\")\n",
    "sc.pl.umap(adata, color=\"clone_id_size\")"
   ]
  },
  {
   "cell_type": "markdown",
   "id": "22",
   "metadata": {},
   "source": [
    "Wait, why are we seeing some clone size 0 in the plots? Orphan chains."
   ]
  },
  {
   "cell_type": "code",
   "execution_count": null,
   "id": "23",
   "metadata": {},
   "outputs": [],
   "source": [
    "ddl.pl.clone_network(adata, color=\"clone_id_size_max_3\")\n",
    "sc.pl.umap(adata, color=\"clone_id_size_max_3\")"
   ]
  },
  {
   "cell_type": "markdown",
   "id": "24",
   "metadata": {},
   "source": [
    "Dandelion comes with a number of plotting functions for your convenience. However, those functions tend to operate best without the Scanpy plotting defaults in place. You can reset Matplotlib's configuration prior to using them."
   ]
  },
  {
   "cell_type": "code",
   "execution_count": null,
   "id": "25",
   "metadata": {},
   "outputs": [],
   "source": [
    "import matplotlib as mpl\n",
    "mpl.rcParams.update(mpl.rcParamsDefault)\n",
    "%matplotlib inline"
   ]
  },
  {
   "cell_type": "markdown",
   "id": "26",
   "metadata": {},
   "source": [
    "We've got bar plots."
   ]
  },
  {
   "cell_type": "code",
   "execution_count": null,
   "id": "27",
   "metadata": {},
   "outputs": [],
   "source": [
    "ddl.pl.barplot(\n",
    "    vdj[vdj.metadata.isotype_status != \"Multi\"],  # remove multi from the plots\n",
    "    color=\"v_call_genotyped_VDJ\",\n",
    "    xtick_fontsize=5,\n",
    ")"
   ]
  },
  {
   "cell_type": "markdown",
   "id": "28",
   "metadata": {},
   "source": [
    "All of the plotting functions have a number of parameters that can be fiddled with for desired visualisation outcomes. For example, let's disable automatic descending sorting, show counts rather than proportions, and change the palette."
   ]
  },
  {
   "cell_type": "code",
   "execution_count": null,
   "id": "29",
   "metadata": {},
   "outputs": [],
   "source": [
    "ddl.pl.barplot(\n",
    "    vdj[vdj.metadata.isotype_status != \"Multi\"],\n",
    "    color=\"v_call_genotyped_VDJ\",\n",
    "    normalize=False,\n",
    "    sort_descending=None,\n",
    "    palette=\"tab20\",\n",
    "    xtick_fontsize=5,\n",
    ")"
   ]
  },
  {
   "cell_type": "markdown",
   "id": "30",
   "metadata": {},
   "source": [
    "We've got stacked bar plots."
   ]
  },
  {
   "cell_type": "code",
   "execution_count": null,
   "id": "31",
   "metadata": {},
   "outputs": [],
   "source": [
    "ddl.pl.stackedbarplot(\n",
    "    vdj[vdj.metadata.isotype_status != \"Multi\"],\n",
    "    color=\"isotype_status\",\n",
    "    groupby=\"locus_status\",\n",
    "    xtick_rotation=0,\n",
    "    figsize=(4, 3),\n",
    ")"
   ]
  },
  {
   "cell_type": "markdown",
   "id": "32",
   "metadata": {},
   "source": [
    "These can be normalised to add up to 1 for each column."
   ]
  },
  {
   "cell_type": "code",
   "execution_count": null,
   "id": "33",
   "metadata": {},
   "outputs": [],
   "source": [
    "ddl.pl.stackedbarplot(\n",
    "    vdj[vdj.metadata.isotype_status != \"Multi\"],\n",
    "    color=\"v_call_genotyped_VDJ\",\n",
    "    groupby=\"isotype_status\",\n",
    "    normalize=True,\n",
    "    xtick_fontsize=5,\n",
    ")"
   ]
  },
  {
   "cell_type": "markdown",
   "id": "34",
   "metadata": {},
   "source": [
    "We've also got a spectratype plot, which shows the distribution of the CDR3 length for the various contigs."
   ]
  },
  {
   "cell_type": "code",
   "execution_count": null,
   "id": "35",
   "metadata": {},
   "outputs": [],
   "source": [
    "ddl.pl.spectratype(\n",
    "    vdj[vdj.metadata.isotype_status != \"Multi\"],\n",
    "    color=\"junction_length\",\n",
    "    groupby=\"c_call\",\n",
    "    locus=\"IGH\",\n",
    "    width=2.3,\n",
    ")"
   ]
  },
  {
   "cell_type": "markdown",
   "id": "36",
   "metadata": {},
   "source": [
    "Another common VDJ analysis request is to examine the distribution of shared clonotypes between cells of different metadata groups. Dandelion can do this as a circos plot."
   ]
  },
  {
   "cell_type": "code",
   "execution_count": null,
   "id": "37",
   "metadata": {},
   "outputs": [],
   "source": [
    "ddl.tl.clone_overlap(\n",
    "    adata, groupby=\"leiden\", colorby=\"leiden\", weighted_overlap=True\n",
    ")\n",
    "ddl.pl.clone_overlap(\n",
    "    adata, groupby=\"leiden\", colorby=\"leiden\", weighted_overlap=True\n",
    ")"
   ]
  },
  {
   "cell_type": "markdown",
   "id": "38",
   "metadata": {},
   "source": [
    "There's also a heatmap on offer."
   ]
  },
  {
   "cell_type": "code",
   "execution_count": null,
   "id": "39",
   "metadata": {},
   "outputs": [],
   "source": [
    "ddl.pl.clone_overlap(\n",
    "    adata,\n",
    "    groupby=\"leiden\",\n",
    "    colorby=\"leiden\",\n",
    "    weighted_overlap=True,\n",
    "    as_heatmap=True,\n",
    "    # seaborn clustermap kwargs\n",
    "    cmap=\"Blues\",\n",
    "    annot=True,\n",
    "    figsize=(8, 8),\n",
    "    annot_kws={\"size\": 10},\n",
    ")"
   ]
  },
  {
   "cell_type": "markdown",
   "id": "40",
   "metadata": {},
   "source": [
    "Save the objects, like so."
   ]
  },
  {
   "cell_type": "code",
   "execution_count": null,
   "id": "41",
   "metadata": {},
   "outputs": [],
   "source": [
    "adata.write(\"demo-gex-processed.h5ad\")\n",
    "vdj.write(\"demo-vdj-processed.h5ddl\")\n"
   ]
  }
 ],
 "metadata": {
  "language_info": {
   "codemirror_mode": {
    "name": "ipython",
    "version": 3
   },
   "file_extension": ".py",
   "mimetype": "text/x-python",
   "name": "python",
   "nbconvert_exporter": "python",
   "pygments_lexer": "ipython3",
   "version": "3.9.13"
  }
 },
 "nbformat": 4,
 "nbformat_minor": 5
}
