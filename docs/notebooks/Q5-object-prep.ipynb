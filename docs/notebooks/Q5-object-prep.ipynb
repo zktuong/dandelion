{
 "cells": [
  {
   "cell_type": "markdown",
   "id": "fitted-captain",
   "metadata": {},
   "source": [
    "# Demo object preparation"
   ]
  },
  {
   "cell_type": "code",
   "execution_count": 1,
   "id": "contemporary-camcorder",
   "metadata": {},
   "outputs": [],
   "source": [
    "import dandelion as ddl\n",
    "import scanpy as sc\n",
    "import warnings\n",
    "\n",
    "warnings.filterwarnings('ignore')"
   ]
  },
  {
   "cell_type": "markdown",
   "id": "spatial-secretary",
   "metadata": {},
   "source": [
    "This is how we created the objects that you downloaded as part of the quickstart tutorial. The syntax may be of use to you when importing your own data.\n",
    "\n",
    "We started off by downloading public 10X data:\n",
    "\n",
    "```\n",
    "mkdir dandelion_tutorial\n",
    "mkdir -p dandelion_tutorial/vdj_nextgem_hs_pbmc3\n",
    "mkdir -p dandelion_tutorial/vdj_v1_hs_pbmc3\n",
    "mkdir -p dandelion_tutorial/sc5p_v2_hs_PBMC_10k\n",
    "mkdir -p dandelion_tutorial/sc5p_v2_hs_PBMC_1k\n",
    "cd dandelion_tutorial/vdj_v1_hs_pbmc3;\n",
    "wget -O filtered_feature_bc_matrix.h5 https://cf.10xgenomics.com/samples/cell-vdj/3.1.0/vdj_v1_hs_pbmc3/vdj_v1_hs_pbmc3_filtered_feature_bc_matrix.h5;\n",
    "wget -O filtered_contig_annotations.csv https://cf.10xgenomics.com/samples/cell-vdj/3.1.0/vdj_v1_hs_pbmc3/vdj_v1_hs_pbmc3_b_filtered_contig_annotations.csv;\n",
    "wget -O filtered_contig.fasta https://cf.10xgenomics.com/samples/cell-vdj/3.1.0/vdj_v1_hs_pbmc3/vdj_v1_hs_pbmc3_b_filtered_contig.fasta;\n",
    "cd ../vdj_nextgem_hs_pbmc3\n",
    "wget -O filtered_feature_bc_matrix.h5 https://cf.10xgenomics.com/samples/cell-vdj/3.1.0/vdj_nextgem_hs_pbmc3/vdj_nextgem_hs_pbmc3_filtered_feature_bc_matrix.h5;\n",
    "wget -O filtered_contig_annotations.csv https://cf.10xgenomics.com/samples/cell-vdj/3.1.0/vdj_nextgem_hs_pbmc3/vdj_nextgem_hs_pbmc3_b_filtered_contig_annotations.csv;\n",
    "wget -O filtered_contig.fasta https://cf.10xgenomics.com/samples/cell-vdj/3.1.0/vdj_nextgem_hs_pbmc3/vdj_nextgem_hs_pbmc3_b_filtered_contig.fasta;\n",
    "cd ../sc5p_v2_hs_PBMC_10k;\n",
    "wget -O filtered_feature_bc_matrix.h5 https://cf.10xgenomics.com/samples/cell-vdj/4.0.0/sc5p_v2_hs_PBMC_10k/sc5p_v2_hs_PBMC_10k_filtered_feature_bc_matrix.h5;\n",
    "wget -O filtered_contig_annotations.csv https://cf.10xgenomics.com/samples/cell-vdj/4.0.0/sc5p_v2_hs_PBMC_10k/sc5p_v2_hs_PBMC_10k_b_filtered_contig_annotations.csv;\n",
    "wget -O filtered_contig.fasta https://cf.10xgenomics.com/samples/cell-vdj/4.0.0/sc5p_v2_hs_PBMC_10k/sc5p_v2_hs_PBMC_10k_b_filtered_contig.fasta;\n",
    "cd ../sc5p_v2_hs_PBMC_1k;\n",
    "wget -O filtered_feature_bc_matrix.h5 wget https://cf.10xgenomics.com/samples/cell-vdj/4.0.0/sc5p_v2_hs_PBMC_1k/sc5p_v2_hs_PBMC_1k_filtered_feature_bc_matrix.h5;\n",
    "wget -O filtered_contig_annotations.csv wget https://cf.10xgenomics.com/samples/cell-vdj/4.0.0/sc5p_v2_hs_PBMC_1k/sc5p_v2_hs_PBMC_1k_b_filtered_contig_annotations.csv;\n",
    "wget -O filtered_contig.fasta https://cf.10xgenomics.com/samples/cell-vdj/4.0.0/sc5p_v2_hs_PBMC_1k/sc5p_v2_hs_PBMC_1k_b_filtered_contig.fasta;\n",
    "```\n",
    "\n",
    "Once the data was downloaded, we returned to the `dandelion_tutorial` directory and created a `meta.csv` file with the following contents:\n",
    "\n",
    "```\n",
    "sample,prefix,individual\n",
    "vdj_v1_hs_pbmc3,vdj_v1_hs_pbmc3,vdj_v1_hs_pbmc3\n",
    "vdj_nextgem_hs_pbmc3,vdj_nextgem_hs_pbmc3,vdj_nextgem_hs_pbmc3\n",
    "sc5p_v2_hs_PBMC_10k,sc5p_v2_hs_PBMC_10k,sc5p_v2_hs_PBMC_10k\n",
    "sc5p_v2_hs_PBMC_1k,sc5p_v2_hs_PBMC_1k,sc5p_v2_hs_PBMC_1k\n",
    "```\n",
    "\n",
    "We then ran the preprocessing pipeline with the aid of the Dandelion singularity container:\n",
    "\n",
    "```\n",
    "singularity pull library://kt16/default/sc-dandelion:latest\n",
    "singularity run -B $PWD sc-dandelion_latest.sif dandelion-preprocess --meta meta.csv --file_prefix filtered\n",
    "```\n",
    "\n",
    "At this stage, the data was ready for import. Create a list of samples to use."
   ]
  },
  {
   "cell_type": "code",
   "execution_count": 2,
   "id": "soviet-resource",
   "metadata": {},
   "outputs": [],
   "source": [
    "samples = ['sc5p_v2_hs_PBMC_1k', 'sc5p_v2_hs_PBMC_10k', 'vdj_v1_hs_pbmc3', 'vdj_nextgem_hs_pbmc3']"
   ]
  },
  {
   "cell_type": "markdown",
   "id": "mechanical-praise",
   "metadata": {},
   "source": [
    "Import the GEX data and combine it into a single object."
   ]
  },
  {
   "cell_type": "code",
   "execution_count": 3,
   "id": "piano-heart",
   "metadata": {},
   "outputs": [],
   "source": [
    "adata_list = []\n",
    "for sample in samples:\n",
    "    adata = sc.read_10x_h5('dandelion_tutorial/' + sample +'/filtered_feature_bc_matrix.h5', gex_only=True)\n",
    "    adata.obs['sampleid'] = sample\n",
    "    # rename cells to sample id + barcode, and cleave the trailing -#\n",
    "    adata.obs_names = [str(sample)+'_'+str(j).split('-')[0] for j in adata.obs_names]\n",
    "    adata.var_names_make_unique()\n",
    "    adata_list.append(adata)\n",
    "#no need for index_unique as we already made barcodes unique by prepending the sample ID\n",
    "adata = adata_list[0].concatenate(adata_list[1:], index_unique=None)"
   ]
  },
  {
   "cell_type": "markdown",
   "id": "eastern-clothing",
   "metadata": {},
   "source": [
    "Import the Dandelion preprocessing output, and then combine that into a matching single object as well."
   ]
  },
  {
   "cell_type": "code",
   "execution_count": 4,
   "id": "athletic-cancer",
   "metadata": {},
   "outputs": [],
   "source": [
    "vdj_list = []\n",
    "for sample in samples:\n",
    "    vdj = ddl.read_10x_airr('dandelion_tutorial/'+sample+'/dandelion/filtered_contig_dandelion.tsv')\n",
    "    #the dandelion output already has the sample ID prepended at the start of each contig\n",
    "    vdj_list.append(vdj)\n",
    "vdj = ddl.concat(vdj_list)"
   ]
  },
  {
   "cell_type": "markdown",
   "id": "falling-teacher",
   "metadata": {},
   "source": [
    "Do standard GEX processing via Scanpy."
   ]
  },
  {
   "cell_type": "code",
   "execution_count": 5,
   "id": "still-batman",
   "metadata": {},
   "outputs": [],
   "source": [
    "sc.pp.filter_genes(adata, min_cells=3)\n",
    "sc.pp.normalize_total(adata, target_sum=1e4)\n",
    "sc.pp.log1p(adata)\n",
    "adata.raw = adata\n",
    "sc.pp.highly_variable_genes(adata, min_mean=0.0125, max_mean=3, min_disp=0.5)\n",
    "adata = adata[:, adata.var.highly_variable]\n",
    "sc.pp.scale(adata, max_value=10)\n",
    "sc.tl.pca(adata, svd_solver='arpack')\n",
    "sc.pp.neighbors(adata, n_pcs=20)\n",
    "sc.tl.umap(adata)\n",
    "sc.tl.leiden(adata, resolution=0.5)"
   ]
  },
  {
   "cell_type": "markdown",
   "id": "fewer-witness",
   "metadata": {},
   "source": [
    "And that's it! The objects were saved and put up on FTP for you to download."
   ]
  },
  {
   "cell_type": "code",
   "execution_count": 6,
   "id": "romantic-retro",
   "metadata": {},
   "outputs": [],
   "source": [
    "adata.write(\"demo-gex.h5ad\")\n",
    "vdj.write('demo-vdj.h5ddl')"
   ]
  }
 ],
 "metadata": {
  "kernelspec": {
   "display_name": "dandelion-tutorial",
   "language": "python",
   "name": "dandelion-tutorial"
  },
  "language_info": {
   "codemirror_mode": {
    "name": "ipython",
    "version": 3
   },
   "file_extension": ".py",
   "mimetype": "text/x-python",
   "name": "python",
   "nbconvert_exporter": "python",
   "pygments_lexer": "ipython3",
   "version": "3.9.13"
  }
 },
 "nbformat": 4,
 "nbformat_minor": 5
}
