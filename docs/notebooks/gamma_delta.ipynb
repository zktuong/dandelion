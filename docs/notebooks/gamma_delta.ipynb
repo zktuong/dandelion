{
 "cells": [
  {
   "cell_type": "markdown",
   "metadata": {},
   "source": [
    "# Dandelion for TCR gamma/delta reannotation\n",
    "\n",
    "![dandelion_logo](img/dandelion_logo_illustration.png)\n",
    "\n",
    "In Cell Ranger 3.1.0, the VDJ algorithm was changed to favour TCR alpha/beta annotation. Since then, calling gamma/delta chains has become challenging, and 10X support recommends using Cell Ranger 3.0.2 when working with gamma/delta-rich libraries. \n",
    "\n",
    "However, the contigs themselves are still accurately reconstructed, just not annotated correctly. It may be desirable to use a newer Cell Ranger version for access to some previously unavailable run options, like specifying custom enrichment primers. In those cases, the contigs can be reannotated via `dandelion` to yield functional output.\n",
    "\n",
    "Prepare your input like you [normally would](https://sc-dandelion.readthedocs.io/en/latest/notebooks/singularity_preprocessing.html) for preprocessing - one folder per sample, holding the Cell Ranger V(D)J output. Then for each `$SAMPLE`, do the following:\n",
    "\n",
    "```bash\n",
    "cut -f3-4 -d, $SAMPLE/all_contig_annotations.csv | grep True | cut -f1 -d, > $SAMPLE/hiconf.txt\n",
    "\n",
    "head -n 1 $SAMPLE/all_contig_annotations.csv > $SAMPLE/hiconf_contig_annotations.csv\n",
    "\n",
    "grep -f $SAMPLE/hiconf.txt $SAMPLE/all_contig_annotations.csv >> $SAMPLE/hiconf_contig_annotations.csv \n",
    "\n",
    "grep -A1 --no-group-separator -f $SAMPLE/hiconf.txt $SAMPLE/all_contig.fasta > $SAMPLE/hiconf_contig.fasta\n",
    "\n",
    "rm $SAMPLE/hiconf.txt\n",
    "```\n",
    "\n",
    "Cellular assignment of contigs tends to be wonky for gamma/delta-rich libraries as well, so this goes back to the unfiltered contig file and identifies the names of all contigs Cell Ranger deems high confidence (this part works fine). \n",
    "\n",
    "This contig list is then used to fish out the contig sequence and annotation into a new pair of Dandelion compliant input files. Once done, the holder file with the high confidence contig names is removed.\n",
    "\n",
    "Once all your samples are processed this way, you can run `dandelion`:\n",
    "\n",
    "```bash\n",
    "singularity run -B $PWD ~/sc-dandelion_latest.sif dandelion-preprocess --chain TR \\\n",
    "        --file_prefix hiconf \\\n",
    "        --keep_trailing_hyphen_number\n",
    "```\n",
    "\n",
    "For each `$SAMPLE`, the reannotated high confidence contigs can be found at `$SAMPLE/dandelion/hiconf_contig_igblast_db-pass.tsv`."
   ]
  },
  {
   "cell_type": "code",
   "execution_count": null,
   "metadata": {},
   "outputs": [],
   "source": []
  }
 ],
 "metadata": {
  "kernelspec": {
   "display_name": "Python 3",
   "language": "python",
   "name": "python3"
  },
  "language_info": {
   "codemirror_mode": {
    "name": "ipython",
    "version": 3
   },
   "file_extension": ".py",
   "mimetype": "text/x-python",
   "name": "python",
   "nbconvert_exporter": "python",
   "pygments_lexer": "ipython3",
   "version": "3.7.8"
  }
 },
 "nbformat": 4,
 "nbformat_minor": 4
}
