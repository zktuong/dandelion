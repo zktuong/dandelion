{
 "cells": [
  {
   "cell_type": "markdown",
   "metadata": {},
   "source": [
    "# Dandelion for TCR gamma/delta reannotation\n",
    "\n",
    "![dandelion_logo](img/dandelion_logo_illustration.png)\n",
    "\n",
    "In Cell Ranger 3.1.0, the VDJ algorithm was changed to favour TCR alpha/beta annotation. Since then, calling gamma/delta chains has become challenging, and 10X support recommends using Cell Ranger 3.0.2 when working with gamma/delta-rich libraries. \n",
    "\n",
    "However, the contigs themselves are still accurately reconstructed, just not annotated correctly. It may be desirable to use a newer Cell Ranger version for access to some previously unavailable run options, like specifying custom enrichment primers. In those cases, the contigs can be reannotated via `dandelion` to yield functional output.\n",
    "\n",
    "Just follow [standard protocol](https://sc-dandelion.readthedocs.io/en/latest/notebooks/singularity_preprocessing.html) for preparing and running the preprocessing. The parameterisation recommendation is applicable here as well:\n",
    "\n",
    "```bash\n",
    "singularity run -B $PWD /path/to/sc-dandelion_latest.sif dandelion-preprocess \\\n",
    "     --chain TR \\\n",
    "     --file_prefix all \\\n",
    "     --filter_to_high_confidence\n",
    "```"
   ]
  },
  {
   "cell_type": "code",
   "execution_count": null,
   "metadata": {},
   "outputs": [],
   "source": []
  }
 ],
 "metadata": {
  "kernelspec": {
   "display_name": "Python 3",
   "language": "python",
   "name": "python3"
  },
  "language_info": {
   "codemirror_mode": {
    "name": "ipython",
    "version": 3
   },
   "file_extension": ".py",
   "mimetype": "text/x-python",
   "name": "python",
   "nbconvert_exporter": "python",
   "pygments_lexer": "ipython3",
   "version": "3.7.6"
  }
 },
 "nbformat": 4,
 "nbformat_minor": 4
}
